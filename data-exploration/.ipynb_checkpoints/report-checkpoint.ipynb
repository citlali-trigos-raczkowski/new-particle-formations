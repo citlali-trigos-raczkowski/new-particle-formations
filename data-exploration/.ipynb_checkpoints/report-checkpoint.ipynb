{
 "cells": [
  {
   "cell_type": "code",
   "execution_count": 1,
   "id": "ebbff75c",
   "metadata": {},
   "outputs": [],
   "source": [
    "import pandas as pd\n",
    "import numpy as np"
   ]
  },
  {
   "cell_type": "code",
   "execution_count": 2,
   "id": "3be4a078",
   "metadata": {},
   "outputs": [],
   "source": [
    "from sklearn.preprocessing import StandardScaler\n",
    "from sklearn.pipeline import Pipeline\n",
    "from sklearn.model_selection import train_test_split, GridSearchCV,cross_validate,StratifiedKFold\n",
    "from matplotlib import pyplot as plt\n",
    "from sklearn.linear_model import LogisticRegression,Lasso\n",
    "from sklearn.feature_selection import VarianceThreshold,SelectKBest,chi2,SelectFromModel\n",
    "from sklearn.svm import LinearSVC,SVC\n",
    "from sklearn.metrics import accuracy_score,confusion_matrix\n",
    "import seaborn as sns\n",
    "from sklearn.ensemble import RandomForestClassifier\n",
    "from sklearn.naive_bayes import GaussianNB\n",
    "from sklearn.decomposition import PCA"
   ]
  },
  {
   "cell_type": "code",
   "execution_count": 3,
   "id": "8e31438c",
   "metadata": {},
   "outputs": [],
   "source": [
    "# load the data \n",
    "train_df = pd.read_csv('../data/npf_train.csv')\n",
    "test_df = pd.read_csv('../data/npf_test_hidden.csv')"
   ]
  },
  {
   "cell_type": "markdown",
   "id": "38e7d885",
   "metadata": {},
   "source": [
    "# TODO\n",
    "1. perplexity\n",
    "2. cross validation "
   ]
  },
  {
   "cell_type": "markdown",
   "id": "7c313cde",
   "metadata": {},
   "source": [
    "# 0. Explore the Data "
   ]
  },
  {
   "cell_type": "code",
   "execution_count": 4,
   "id": "63c78d0a",
   "metadata": {},
   "outputs": [
    {
     "data": {
      "text/html": [
       "<div>\n",
       "<style scoped>\n",
       "    .dataframe tbody tr th:only-of-type {\n",
       "        vertical-align: middle;\n",
       "    }\n",
       "\n",
       "    .dataframe tbody tr th {\n",
       "        vertical-align: top;\n",
       "    }\n",
       "\n",
       "    .dataframe thead th {\n",
       "        text-align: right;\n",
       "    }\n",
       "</style>\n",
       "<table border=\"1\" class=\"dataframe\">\n",
       "  <thead>\n",
       "    <tr style=\"text-align: right;\">\n",
       "      <th></th>\n",
       "      <th>id</th>\n",
       "      <th>date</th>\n",
       "      <th>class4</th>\n",
       "      <th>partlybad</th>\n",
       "      <th>CO2168.mean</th>\n",
       "      <th>CO2168.std</th>\n",
       "      <th>CO2336.mean</th>\n",
       "      <th>CO2336.std</th>\n",
       "      <th>CO242.mean</th>\n",
       "      <th>CO242.std</th>\n",
       "      <th>...</th>\n",
       "      <th>T672.mean</th>\n",
       "      <th>T672.std</th>\n",
       "      <th>T84.mean</th>\n",
       "      <th>T84.std</th>\n",
       "      <th>UV_A.mean</th>\n",
       "      <th>UV_A.std</th>\n",
       "      <th>UV_B.mean</th>\n",
       "      <th>UV_B.std</th>\n",
       "      <th>CS.mean</th>\n",
       "      <th>CS.std</th>\n",
       "    </tr>\n",
       "  </thead>\n",
       "  <tbody>\n",
       "    <tr>\n",
       "      <th>0</th>\n",
       "      <td>1</td>\n",
       "      <td>2000-01-17</td>\n",
       "      <td>Ib</td>\n",
       "      <td>False</td>\n",
       "      <td>368.771711</td>\n",
       "      <td>0.310309</td>\n",
       "      <td>368.665658</td>\n",
       "      <td>0.305127</td>\n",
       "      <td>369.371184</td>\n",
       "      <td>0.333606</td>\n",
       "      <td>...</td>\n",
       "      <td>-1.476016</td>\n",
       "      <td>0.250952</td>\n",
       "      <td>-0.899393</td>\n",
       "      <td>0.271648</td>\n",
       "      <td>2.492491</td>\n",
       "      <td>1.310880</td>\n",
       "      <td>0.031587</td>\n",
       "      <td>0.018122</td>\n",
       "      <td>0.000243</td>\n",
       "      <td>0.000035</td>\n",
       "    </tr>\n",
       "    <tr>\n",
       "      <th>1</th>\n",
       "      <td>2</td>\n",
       "      <td>2000-02-28</td>\n",
       "      <td>nonevent</td>\n",
       "      <td>False</td>\n",
       "      <td>378.197295</td>\n",
       "      <td>1.001493</td>\n",
       "      <td>378.083089</td>\n",
       "      <td>1.025472</td>\n",
       "      <td>378.671311</td>\n",
       "      <td>1.017208</td>\n",
       "      <td>...</td>\n",
       "      <td>1.479493</td>\n",
       "      <td>0.313460</td>\n",
       "      <td>2.033191</td>\n",
       "      <td>0.271090</td>\n",
       "      <td>0.295937</td>\n",
       "      <td>0.177836</td>\n",
       "      <td>0.005140</td>\n",
       "      <td>0.003552</td>\n",
       "      <td>0.003658</td>\n",
       "      <td>0.000940</td>\n",
       "    </tr>\n",
       "    <tr>\n",
       "      <th>2</th>\n",
       "      <td>3</td>\n",
       "      <td>2000-03-24</td>\n",
       "      <td>Ib</td>\n",
       "      <td>False</td>\n",
       "      <td>373.043158</td>\n",
       "      <td>0.749865</td>\n",
       "      <td>372.930066</td>\n",
       "      <td>0.728411</td>\n",
       "      <td>373.569735</td>\n",
       "      <td>0.835240</td>\n",
       "      <td>...</td>\n",
       "      <td>-0.270844</td>\n",
       "      <td>2.037111</td>\n",
       "      <td>0.780422</td>\n",
       "      <td>2.334741</td>\n",
       "      <td>14.434789</td>\n",
       "      <td>8.627312</td>\n",
       "      <td>0.353743</td>\n",
       "      <td>0.272472</td>\n",
       "      <td>0.000591</td>\n",
       "      <td>0.000191</td>\n",
       "    </tr>\n",
       "    <tr>\n",
       "      <th>3</th>\n",
       "      <td>4</td>\n",
       "      <td>2000-03-30</td>\n",
       "      <td>II</td>\n",
       "      <td>False</td>\n",
       "      <td>375.643019</td>\n",
       "      <td>0.558629</td>\n",
       "      <td>375.549430</td>\n",
       "      <td>0.540964</td>\n",
       "      <td>376.045849</td>\n",
       "      <td>0.580730</td>\n",
       "      <td>...</td>\n",
       "      <td>5.622308</td>\n",
       "      <td>2.509758</td>\n",
       "      <td>6.533544</td>\n",
       "      <td>2.695277</td>\n",
       "      <td>16.077513</td>\n",
       "      <td>9.984686</td>\n",
       "      <td>0.568242</td>\n",
       "      <td>0.451830</td>\n",
       "      <td>0.002493</td>\n",
       "      <td>0.000466</td>\n",
       "    </tr>\n",
       "    <tr>\n",
       "      <th>4</th>\n",
       "      <td>5</td>\n",
       "      <td>2000-04-04</td>\n",
       "      <td>nonevent</td>\n",
       "      <td>False</td>\n",
       "      <td>377.661030</td>\n",
       "      <td>0.408421</td>\n",
       "      <td>377.609576</td>\n",
       "      <td>0.423963</td>\n",
       "      <td>378.117134</td>\n",
       "      <td>0.417243</td>\n",
       "      <td>...</td>\n",
       "      <td>1.140121</td>\n",
       "      <td>1.438071</td>\n",
       "      <td>2.133774</td>\n",
       "      <td>1.614122</td>\n",
       "      <td>9.710422</td>\n",
       "      <td>7.054069</td>\n",
       "      <td>0.339135</td>\n",
       "      <td>0.291457</td>\n",
       "      <td>0.004715</td>\n",
       "      <td>0.000679</td>\n",
       "    </tr>\n",
       "  </tbody>\n",
       "</table>\n",
       "<p>5 rows × 104 columns</p>\n",
       "</div>"
      ],
      "text/plain": [
       "   id        date    class4  partlybad  CO2168.mean  CO2168.std  CO2336.mean  \\\n",
       "0   1  2000-01-17        Ib      False   368.771711    0.310309   368.665658   \n",
       "1   2  2000-02-28  nonevent      False   378.197295    1.001493   378.083089   \n",
       "2   3  2000-03-24        Ib      False   373.043158    0.749865   372.930066   \n",
       "3   4  2000-03-30        II      False   375.643019    0.558629   375.549430   \n",
       "4   5  2000-04-04  nonevent      False   377.661030    0.408421   377.609576   \n",
       "\n",
       "   CO2336.std  CO242.mean  CO242.std  ...  T672.mean  T672.std  T84.mean  \\\n",
       "0    0.305127  369.371184   0.333606  ...  -1.476016  0.250952 -0.899393   \n",
       "1    1.025472  378.671311   1.017208  ...   1.479493  0.313460  2.033191   \n",
       "2    0.728411  373.569735   0.835240  ...  -0.270844  2.037111  0.780422   \n",
       "3    0.540964  376.045849   0.580730  ...   5.622308  2.509758  6.533544   \n",
       "4    0.423963  378.117134   0.417243  ...   1.140121  1.438071  2.133774   \n",
       "\n",
       "    T84.std  UV_A.mean  UV_A.std  UV_B.mean  UV_B.std   CS.mean    CS.std  \n",
       "0  0.271648   2.492491  1.310880   0.031587  0.018122  0.000243  0.000035  \n",
       "1  0.271090   0.295937  0.177836   0.005140  0.003552  0.003658  0.000940  \n",
       "2  2.334741  14.434789  8.627312   0.353743  0.272472  0.000591  0.000191  \n",
       "3  2.695277  16.077513  9.984686   0.568242  0.451830  0.002493  0.000466  \n",
       "4  1.614122   9.710422  7.054069   0.339135  0.291457  0.004715  0.000679  \n",
       "\n",
       "[5 rows x 104 columns]"
      ]
     },
     "execution_count": 4,
     "metadata": {},
     "output_type": "execute_result"
    }
   ],
   "source": [
    "# here's the raw data\n",
    "train_df.head()"
   ]
  },
  {
   "cell_type": "code",
   "execution_count": 5,
   "id": "03509feb",
   "metadata": {},
   "outputs": [
    {
     "data": {
      "text/html": [
       "<div>\n",
       "<style scoped>\n",
       "    .dataframe tbody tr th:only-of-type {\n",
       "        vertical-align: middle;\n",
       "    }\n",
       "\n",
       "    .dataframe tbody tr th {\n",
       "        vertical-align: top;\n",
       "    }\n",
       "\n",
       "    .dataframe thead th {\n",
       "        text-align: right;\n",
       "    }\n",
       "</style>\n",
       "<table border=\"1\" class=\"dataframe\">\n",
       "  <thead>\n",
       "    <tr style=\"text-align: right;\">\n",
       "      <th></th>\n",
       "      <th>id</th>\n",
       "      <th>date</th>\n",
       "      <th>class4</th>\n",
       "      <th>partlybad</th>\n",
       "      <th>CO2168.mean</th>\n",
       "      <th>CO2168.std</th>\n",
       "      <th>CO2336.mean</th>\n",
       "      <th>CO2336.std</th>\n",
       "      <th>CO242.mean</th>\n",
       "      <th>CO242.std</th>\n",
       "      <th>...</th>\n",
       "      <th>T672.mean</th>\n",
       "      <th>T672.std</th>\n",
       "      <th>T84.mean</th>\n",
       "      <th>T84.std</th>\n",
       "      <th>UV_A.mean</th>\n",
       "      <th>UV_A.std</th>\n",
       "      <th>UV_B.mean</th>\n",
       "      <th>UV_B.std</th>\n",
       "      <th>CS.mean</th>\n",
       "      <th>CS.std</th>\n",
       "    </tr>\n",
       "  </thead>\n",
       "  <tbody>\n",
       "    <tr>\n",
       "      <th>0</th>\n",
       "      <td>465</td>\n",
       "      <td>NaN</td>\n",
       "      <td>NaN</td>\n",
       "      <td>False</td>\n",
       "      <td>372.893878</td>\n",
       "      <td>4.629224</td>\n",
       "      <td>373.054467</td>\n",
       "      <td>4.205271</td>\n",
       "      <td>373.651472</td>\n",
       "      <td>5.784621</td>\n",
       "      <td>...</td>\n",
       "      <td>12.415280</td>\n",
       "      <td>1.609407</td>\n",
       "      <td>12.804559</td>\n",
       "      <td>2.312871</td>\n",
       "      <td>15.330203</td>\n",
       "      <td>12.127582</td>\n",
       "      <td>0.564091</td>\n",
       "      <td>0.535718</td>\n",
       "      <td>0.003237</td>\n",
       "      <td>0.001280</td>\n",
       "    </tr>\n",
       "    <tr>\n",
       "      <th>1</th>\n",
       "      <td>466</td>\n",
       "      <td>NaN</td>\n",
       "      <td>NaN</td>\n",
       "      <td>False</td>\n",
       "      <td>384.357287</td>\n",
       "      <td>6.189277</td>\n",
       "      <td>384.481755</td>\n",
       "      <td>6.087435</td>\n",
       "      <td>384.976738</td>\n",
       "      <td>6.291519</td>\n",
       "      <td>...</td>\n",
       "      <td>22.072418</td>\n",
       "      <td>3.835350</td>\n",
       "      <td>23.068204</td>\n",
       "      <td>4.320448</td>\n",
       "      <td>21.137412</td>\n",
       "      <td>15.249912</td>\n",
       "      <td>0.986913</td>\n",
       "      <td>0.868741</td>\n",
       "      <td>0.008954</td>\n",
       "      <td>0.001712</td>\n",
       "    </tr>\n",
       "    <tr>\n",
       "      <th>2</th>\n",
       "      <td>467</td>\n",
       "      <td>NaN</td>\n",
       "      <td>NaN</td>\n",
       "      <td>False</td>\n",
       "      <td>407.851800</td>\n",
       "      <td>2.338562</td>\n",
       "      <td>406.567400</td>\n",
       "      <td>1.789194</td>\n",
       "      <td>411.091224</td>\n",
       "      <td>2.187063</td>\n",
       "      <td>...</td>\n",
       "      <td>-14.321208</td>\n",
       "      <td>0.795222</td>\n",
       "      <td>-16.395076</td>\n",
       "      <td>1.230319</td>\n",
       "      <td>1.719967</td>\n",
       "      <td>1.056718</td>\n",
       "      <td>0.043330</td>\n",
       "      <td>0.028101</td>\n",
       "      <td>0.002392</td>\n",
       "      <td>0.000673</td>\n",
       "    </tr>\n",
       "    <tr>\n",
       "      <th>3</th>\n",
       "      <td>468</td>\n",
       "      <td>NaN</td>\n",
       "      <td>NaN</td>\n",
       "      <td>False</td>\n",
       "      <td>380.007321</td>\n",
       "      <td>0.311889</td>\n",
       "      <td>379.976000</td>\n",
       "      <td>0.301242</td>\n",
       "      <td>380.187636</td>\n",
       "      <td>0.332844</td>\n",
       "      <td>...</td>\n",
       "      <td>-5.784290</td>\n",
       "      <td>0.134812</td>\n",
       "      <td>-5.341722</td>\n",
       "      <td>0.144034</td>\n",
       "      <td>0.668260</td>\n",
       "      <td>0.300168</td>\n",
       "      <td>0.013184</td>\n",
       "      <td>0.005966</td>\n",
       "      <td>0.002179</td>\n",
       "      <td>0.000264</td>\n",
       "    </tr>\n",
       "    <tr>\n",
       "      <th>4</th>\n",
       "      <td>469</td>\n",
       "      <td>NaN</td>\n",
       "      <td>NaN</td>\n",
       "      <td>False</td>\n",
       "      <td>403.974082</td>\n",
       "      <td>0.369724</td>\n",
       "      <td>404.066122</td>\n",
       "      <td>0.370966</td>\n",
       "      <td>404.077755</td>\n",
       "      <td>0.439589</td>\n",
       "      <td>...</td>\n",
       "      <td>-17.074846</td>\n",
       "      <td>0.351160</td>\n",
       "      <td>-16.364321</td>\n",
       "      <td>0.461174</td>\n",
       "      <td>1.756448</td>\n",
       "      <td>0.663685</td>\n",
       "      <td>0.042135</td>\n",
       "      <td>0.016875</td>\n",
       "      <td>0.001908</td>\n",
       "      <td>0.000091</td>\n",
       "    </tr>\n",
       "  </tbody>\n",
       "</table>\n",
       "<p>5 rows × 104 columns</p>\n",
       "</div>"
      ],
      "text/plain": [
       "    id  date  class4  partlybad  CO2168.mean  CO2168.std  CO2336.mean  \\\n",
       "0  465   NaN     NaN      False   372.893878    4.629224   373.054467   \n",
       "1  466   NaN     NaN      False   384.357287    6.189277   384.481755   \n",
       "2  467   NaN     NaN      False   407.851800    2.338562   406.567400   \n",
       "3  468   NaN     NaN      False   380.007321    0.311889   379.976000   \n",
       "4  469   NaN     NaN      False   403.974082    0.369724   404.066122   \n",
       "\n",
       "   CO2336.std  CO242.mean  CO242.std  ...  T672.mean  T672.std   T84.mean  \\\n",
       "0    4.205271  373.651472   5.784621  ...  12.415280  1.609407  12.804559   \n",
       "1    6.087435  384.976738   6.291519  ...  22.072418  3.835350  23.068204   \n",
       "2    1.789194  411.091224   2.187063  ... -14.321208  0.795222 -16.395076   \n",
       "3    0.301242  380.187636   0.332844  ...  -5.784290  0.134812  -5.341722   \n",
       "4    0.370966  404.077755   0.439589  ... -17.074846  0.351160 -16.364321   \n",
       "\n",
       "    T84.std  UV_A.mean   UV_A.std  UV_B.mean  UV_B.std   CS.mean    CS.std  \n",
       "0  2.312871  15.330203  12.127582   0.564091  0.535718  0.003237  0.001280  \n",
       "1  4.320448  21.137412  15.249912   0.986913  0.868741  0.008954  0.001712  \n",
       "2  1.230319   1.719967   1.056718   0.043330  0.028101  0.002392  0.000673  \n",
       "3  0.144034   0.668260   0.300168   0.013184  0.005966  0.002179  0.000264  \n",
       "4  0.461174   1.756448   0.663685   0.042135  0.016875  0.001908  0.000091  \n",
       "\n",
       "[5 rows x 104 columns]"
      ]
     },
     "execution_count": 5,
     "metadata": {},
     "output_type": "execute_result"
    }
   ],
   "source": [
    "# here's the testing df \n",
    "test_df.head()"
   ]
  },
  {
   "cell_type": "markdown",
   "id": "b6d472a5",
   "metadata": {},
   "source": [
    "As we can see, the testing dataframe doesn't include the classifications for the data. So for this, we will be only making predictions without being able to verify or test our results. \n",
    "\n",
    "As for the training data, we learn the following:\n",
    "- we can remove columns: partlybad, date, id, and\n",
    "- we need to standardize the means."
   ]
  },
  {
   "cell_type": "markdown",
   "id": "2e23deaa",
   "metadata": {},
   "source": [
    "# 1. Data preprocessing\n",
    "\n",
    "1. Take just the mean columns\n",
    "2. Standardize these columns\n",
    "3. Set classification columns to be type category \n",
    "4. Remove outliers"
   ]
  },
  {
   "cell_type": "code",
   "execution_count": 6,
   "id": "38ba0cbe",
   "metadata": {},
   "outputs": [],
   "source": [
    "# get just the mean columns\n",
    "mean_cols = []\n",
    "for i in train_df.columns:\n",
    "    if 'mean' in i:\n",
    "        mean_cols.append(i)\n",
    "    \n",
    "# get the df for test and train\n",
    "train_means = train_df[mean_cols]\n",
    "test_means = test_df[mean_cols]\n",
    "\n",
    "# get the classification data for binary classification\n",
    "y_train_df = (train_df['class4'] != 'nonevent').astype(int)"
   ]
  },
  {
   "cell_type": "code",
   "execution_count": 7,
   "id": "960e6036",
   "metadata": {},
   "outputs": [],
   "source": [
    "# standardize the values \n",
    "scaler = StandardScaler()\n",
    "X_train_scaled_df = scaler.fit_transform(train_means)"
   ]
  },
  {
   "cell_type": "code",
   "execution_count": 8,
   "id": "995d4bdc",
   "metadata": {},
   "outputs": [
    {
     "data": {
      "text/plain": [
       "['II', 'Ia', 'Ib', 'nonevent']"
      ]
     },
     "execution_count": 8,
     "metadata": {},
     "output_type": "execute_result"
    }
   ],
   "source": [
    "# set class4 column from the original training df to be type category\n",
    "train_df['class4'] = train_df['class4'].astype('category')\n",
    "\n",
    "list_cat = train_df['class4'].cat.categories.tolist()\n",
    "list_cat"
   ]
  },
  {
   "cell_type": "markdown",
   "id": "c5c18276",
   "metadata": {},
   "source": [
    "### 1a. cook's measurement\n",
    "As we can see in the above graph, roughly 10% of the data is considered an influential outlier, if we use the standard threshold given in cook's distance measurement"
   ]
  },
  {
   "cell_type": "code",
   "execution_count": 9,
   "id": "72832c32",
   "metadata": {},
   "outputs": [
    {
     "data": {
      "image/png": "[encoded data removed]",
      "text/plain": [
       "<Figure size 576x396 with 1 Axes>"
      ]
     },
     "metadata": {},
     "output_type": "display_data"
    },
    {
     "data": {
      "text/plain": [
       "<AxesSubplot:title={'center':\"Cook's Distance Outlier Detection\"}, xlabel='instance index', ylabel='influence (I)'>"
      ]
     },
     "execution_count": 9,
     "metadata": {},
     "output_type": "execute_result"
    }
   ],
   "source": [
    "# let's take a look at cook's distance to explore the influence of each data point\n",
    "from yellowbrick.regressor import CooksDistance\n",
    "\n",
    "# Instantiate and fit the visualizer\n",
    "visualizer = CooksDistance()\n",
    "visualizer.fit(X_train_scaled_df, y_train_df)\n",
    "visualizer.show()\n",
    "\n",
    "# TODO: deal with outliers, probably by just dropping them"
   ]
  },
  {
   "cell_type": "markdown",
   "id": "f2b3ea49",
   "metadata": {},
   "source": [
    "### 1b. PCA\n",
    "\n",
    "The data for PCA must be scaled first to 0 mean and unit variance. Then, we are testing which is the value of k that give us the most information."
   ]
  },
  {
   "cell_type": "code",
   "execution_count": 10,
   "id": "a6da4be6",
   "metadata": {},
   "outputs": [],
   "source": [
    "# scaler = StandardScaler()\n",
    "# X = scaler.fit_transform(X_train)\n",
    "\n",
    "# standardize the test data using the same scaling we did for the training data\n",
    "X_test_sc = scaler.transform(test_means)"
   ]
  },
  {
   "cell_type": "code",
   "execution_count": 11,
   "id": "c8c056da",
   "metadata": {},
   "outputs": [
    {
     "data": {
      "image/png": "[encoded data removed]",
      "text/plain": [
       "<Figure size 576x396 with 1 Axes>"
      ]
     },
     "metadata": {},
     "output_type": "display_data"
    }
   ],
   "source": [
    "pca = PCA()\n",
    "\n",
    "X_train_pca = pca.fit_transform(X_train_scaled_df)\n",
    "exp_var_pca = pca.explained_variance_ratio_\n",
    "#\n",
    "# Cumulative sum of eigenvalues; This will be used to create step plot\n",
    "# for visualizing the variance explained by each principal component.\n",
    "#\n",
    "cum_sum_eigenvalues = np.cumsum(exp_var_pca)\n",
    "#\n",
    "# Create the visualization plot\n",
    "#\n",
    "plt.bar(range(0,len(exp_var_pca)), exp_var_pca, alpha=0.5, align='center', label='Individual explained variance')\n",
    "plt.step(range(0,len(cum_sum_eigenvalues)), cum_sum_eigenvalues, where='mid',label='Cumulative explained variance')\n",
    "plt.ylabel('Explained variance ratio')\n",
    "plt.xlabel('Principal component index')\n",
    "plt.title(\"PCA variance for standarized data\")\n",
    "plt.legend(loc='best')\n",
    "plt.tight_layout()\n",
    "plt.show()"
   ]
  },
  {
   "cell_type": "code",
   "execution_count": 12,
   "id": "ab24fc5f",
   "metadata": {},
   "outputs": [],
   "source": [
    "# as we can see, the first 15-18 principal components explain about 100% of the variance, \n",
    "# so moving forward let's just use the first 18 PC vectors in our models\n",
    "\n",
    "pca = PCA(n_components=18)\n",
    "X_pca = pca.fit_transform(X_train_scaled_df)\n",
    "X_test_pca = pca.transform(X_test_sc)"
   ]
  },
  {
   "cell_type": "markdown",
   "id": "865b8dc0",
   "metadata": {},
   "source": [
    "# 2. Models"
   ]
  },
  {
   "cell_type": "code",
   "execution_count": 46,
   "id": "d670e661",
   "metadata": {},
   "outputs": [],
   "source": [
    "# Let's first create a place to store all our model evaluation results\n",
    "evaluations = pd.DataFrame(index=[\"NB\", \"LogR\", \"LSV\", \"RF\"])\n",
    "\n",
    "# evals = pd.DataFrame(columns=\"NB\", \"LogR\", \"LSV\", \"RF\")\n",
    "\n",
    "accuracies = [None for i in range(4)]\n",
    "pcv_no = [None for i in range(4)]\n",
    "perplexities = [None for i in range(4)]\n",
    "cross_valids = [None for i in range(4)]\n",
    "\n",
    "# let's also define our performance metrics\n",
    "# 1. For accuracy, we can use sklearn's built in function get_accuracy\n",
    "# 2. For perplexity, we can use the following \n",
    "\n",
    "\n",
    "def perplexity_bin(X_tr, y_tr, X_te, y_te,m):\n",
    "    y_pred = m.predict(X_te)\n",
    "    try:\n",
    "        y_probs = m.predict_proba(X_te)[:,1]\n",
    "    except e:\n",
    "        y_prods = prob_bin(y_pred,sum_e,sum_ne)\n",
    "    return np.exp(-np.mean(np.log(y_pred*y_probs + (1 - y_pred) * (1 - y_probs))))\n"
   ]
  },
  {
   "cell_type": "markdown",
   "id": "fc7ce88c",
   "metadata": {},
   "source": [
    "## 2a. Naive Bayes Model\n",
    "\n",
    "Assumptions: Independence of variables -- which isn't true, as columns are measurements of the same variables at different distances, which are clearly not independent.\n",
    "\n",
    "Benefits: Provides probabilities, simple to implement, interpretable \n",
    "\n",
    "Cons: Assumption isn't met"
   ]
  },
  {
   "cell_type": "code",
   "execution_count": 16,
   "id": "56561595",
   "metadata": {},
   "outputs": [],
   "source": [
    "# split the scaled X_train_scaled_df and y_train_df into a training and testing set used in training \n",
    "X_train,X_test,y_train,y_test = train_test_split(X_train_scaled_df,y_train_df, test_size=0.7, random_state=42)"
   ]
  },
  {
   "cell_type": "code",
   "execution_count": 100,
   "id": "98bfa460",
   "metadata": {},
   "outputs": [
    {
     "data": {
      "text/html": [
       "<div>\n",
       "<style scoped>\n",
       "    .dataframe tbody tr th:only-of-type {\n",
       "        vertical-align: middle;\n",
       "    }\n",
       "\n",
       "    .dataframe tbody tr th {\n",
       "        vertical-align: top;\n",
       "    }\n",
       "\n",
       "    .dataframe thead th {\n",
       "        text-align: right;\n",
       "    }\n",
       "</style>\n",
       "<table border=\"1\" class=\"dataframe\">\n",
       "  <thead>\n",
       "    <tr style=\"text-align: right;\">\n",
       "      <th></th>\n",
       "      <th>accuracy</th>\n",
       "      <th>perplexity</th>\n",
       "      <th>no_pvc</th>\n",
       "    </tr>\n",
       "  </thead>\n",
       "  <tbody>\n",
       "    <tr>\n",
       "      <th>best_acc</th>\n",
       "      <td>0.873846</td>\n",
       "      <td>1.192784</td>\n",
       "      <td>7</td>\n",
       "    </tr>\n",
       "    <tr>\n",
       "      <th>best_perp</th>\n",
       "      <td>0.796923</td>\n",
       "      <td>1.138567</td>\n",
       "      <td>26</td>\n",
       "    </tr>\n",
       "    <tr>\n",
       "      <th>pca=18</th>\n",
       "      <td>0.830769</td>\n",
       "      <td>1.146406</td>\n",
       "      <td>18</td>\n",
       "    </tr>\n",
       "  </tbody>\n",
       "</table>\n",
       "</div>"
      ],
      "text/plain": [
       "           accuracy  perplexity  no_pvc\n",
       "best_acc   0.873846    1.192784       7\n",
       "best_perp  0.796923    1.138567      26\n",
       "pca=18     0.830769    1.146406      18"
      ]
     },
     "execution_count": 100,
     "metadata": {},
     "output_type": "execute_result"
    }
   ],
   "source": [
    "# Create a pipeline model that\n",
    "#    1. does PCA with the first i components, \n",
    "#    2.  and then creates the NB model\n",
    "\n",
    "\n",
    "pipes = [Pipeline([('pca', PCA(n_components=i)),('nb',GaussianNB())]).fit(X_train,y_train) for i in range(1,30)]\n",
    "y_preds = [pipe.predict(X_test) for pipe in pipes]\n",
    "acc_scores = [accuracy_score(y_test,y_pred) for y_pred in y_preds]\n",
    "perp_scores = [perplexity_bin(X_train, y_train, X_test, y_test, pipes[i]) for i in range(len(pipes))]\n",
    "\n",
    "# best accuracy score, using x number of n_components\n",
    "max_acc = max(acc_scores)\n",
    "best_perp = min(perp_scores)\n",
    "\n",
    "best_acc_pvc = acc_scores.index(max_acc)\n",
    "best_perp_pvc = perp_scores.index(best_perp)\n",
    "\n",
    "\n",
    "df = pd.DataFrame(index=['best_acc', 'best_perp', 'pca=18'])\n",
    "df['accuracy'] = [max_acc, acc_scores[best_perp_pvc], acc_scores[17]]\n",
    "df['perplexity'] = [perp_scores[best_acc_pvc], best_perp, perp_scores[17],]\n",
    "df['no_pvc'] = [best_acc_pvc+1, best_perp_pvc+1, 18]\n",
    "\n",
    "df"
   ]
  },
  {
   "cell_type": "markdown",
   "id": "817b3854",
   "metadata": {},
   "source": [
    "We've created 30 NB models that vary with the number of `n_components` that we give to PCA. As we saw in the data exploration phase, the first 15 or so principal component vectors explain nearly all of the data's variance. \n",
    "\n",
    "In using the Naive Baye's model, we can see that using PCA with the first 6 principal components actually gives us the best result, returning an accuracy score of 0.8738461538461538. "
   ]
  },
  {
   "cell_type": "markdown",
   "id": "4fbd4dc2",
   "metadata": {},
   "source": [
    "## 2b. Logistic Regression\n",
    "\n",
    "Assumptions: Data should be linearly separable, and there shouldn't be any influencial outliers\n",
    "\n",
    "Benefits: highly interpretable, provides probability measures, \n",
    "\n",
    "Cons: Assumes linearity, sensitive to outliers"
   ]
  },
  {
   "cell_type": "code",
   "execution_count": 97,
   "id": "f50c839d",
   "metadata": {},
   "outputs": [
    {
     "data": {
      "text/html": [
       "<div>\n",
       "<style scoped>\n",
       "    .dataframe tbody tr th:only-of-type {\n",
       "        vertical-align: middle;\n",
       "    }\n",
       "\n",
       "    .dataframe tbody tr th {\n",
       "        vertical-align: top;\n",
       "    }\n",
       "\n",
       "    .dataframe thead th {\n",
       "        text-align: right;\n",
       "    }\n",
       "</style>\n",
       "<table border=\"1\" class=\"dataframe\">\n",
       "  <thead>\n",
       "    <tr style=\"text-align: right;\">\n",
       "      <th></th>\n",
       "      <th>accuracy</th>\n",
       "      <th>perplexity</th>\n",
       "      <th>no_pvc</th>\n",
       "    </tr>\n",
       "  </thead>\n",
       "  <tbody>\n",
       "    <tr>\n",
       "      <th>best_acc</th>\n",
       "      <td>0.883077</td>\n",
       "      <td>1.132040</td>\n",
       "      <td>9</td>\n",
       "    </tr>\n",
       "    <tr>\n",
       "      <th>best_perp</th>\n",
       "      <td>0.876923</td>\n",
       "      <td>1.121113</td>\n",
       "      <td>12</td>\n",
       "    </tr>\n",
       "    <tr>\n",
       "      <th>pca=18</th>\n",
       "      <td>0.876923</td>\n",
       "      <td>1.128012</td>\n",
       "      <td>18</td>\n",
       "    </tr>\n",
       "  </tbody>\n",
       "</table>\n",
       "</div>"
      ],
      "text/plain": [
       "           accuracy  perplexity  no_pvc\n",
       "best_acc   0.883077    1.132040       9\n",
       "best_perp  0.876923    1.121113      12\n",
       "pca=18     0.876923    1.128012      18"
      ]
     },
     "execution_count": 97,
     "metadata": {},
     "output_type": "execute_result"
    }
   ],
   "source": [
    "# let's do this similarly to the above model implementation (of NB)\n",
    "\n",
    "pipes = [Pipeline([('pca', PCA(n_components=i)),('log',LogisticRegression())]).fit(X_train,y_train) for i in range(1,30)]\n",
    "y_preds = [pipe.predict(X_test) for pipe in pipes]\n",
    "acc_scores = [accuracy_score(y_test,y_pred) for y_pred in y_preds]\n",
    "perp_scores = [perplexity_bin(X_train, y_train, X_test, y_test, pipes[i]) for i in range(len(pipes))]\n",
    "\n",
    "# best accuracy score, using x number of n_components\n",
    "max_acc = max(acc_scores)\n",
    "best_perp = min(perp_scores)\n",
    "\n",
    "best_acc_pvc = acc_scores.index(max_acc)\n",
    "best_perp_pvc = perp_scores.index(best_perp)\n",
    "\n",
    "\n",
    "df = pd.DataFrame(index=['best_acc', 'best_perp', 'pca=18'])\n",
    "df['accuracy'] = [max_acc, acc_scores[best_perp_pvc], acc_scores[17]]\n",
    "df['perplexity'] = [perp_scores[best_acc_pvc], best_perp, perp_scores[17],]\n",
    "df['no_pvc'] = [best_acc_pvc+1, best_perp_pvc+1, 18]\n",
    "\n",
    "df\n"
   ]
  },
  {
   "cell_type": "markdown",
   "id": "66c9d046",
   "metadata": {},
   "source": [
    "### 2c. Linear Support Vector\n",
    "Assumptions: none that affect us?\n",
    "\n",
    "Benefits: Not sensitive to outliers unlike log regression, also linear, interpretable\n",
    "\n",
    "Cons: None really ?"
   ]
  },
  {
   "cell_type": "code",
   "execution_count": 104,
   "id": "9cc9d0c2",
   "metadata": {},
   "outputs": [
    {
     "data": {
      "text/html": [
       "<div>\n",
       "<style scoped>\n",
       "    .dataframe tbody tr th:only-of-type {\n",
       "        vertical-align: middle;\n",
       "    }\n",
       "\n",
       "    .dataframe tbody tr th {\n",
       "        vertical-align: top;\n",
       "    }\n",
       "\n",
       "    .dataframe thead th {\n",
       "        text-align: right;\n",
       "    }\n",
       "</style>\n",
       "<table border=\"1\" class=\"dataframe\">\n",
       "  <thead>\n",
       "    <tr style=\"text-align: right;\">\n",
       "      <th></th>\n",
       "      <th>accuracy</th>\n",
       "      <th>no_pvc</th>\n",
       "    </tr>\n",
       "  </thead>\n",
       "  <tbody>\n",
       "    <tr>\n",
       "      <th>best_acc</th>\n",
       "      <td>0.876923</td>\n",
       "      <td>5</td>\n",
       "    </tr>\n",
       "    <tr>\n",
       "      <th>pca=18</th>\n",
       "      <td>0.864615</td>\n",
       "      <td>18</td>\n",
       "    </tr>\n",
       "  </tbody>\n",
       "</table>\n",
       "</div>"
      ],
      "text/plain": [
       "          accuracy  no_pvc\n",
       "best_acc  0.876923       5\n",
       "pca=18    0.864615      18"
      ]
     },
     "execution_count": 104,
     "metadata": {},
     "output_type": "execute_result"
    }
   ],
   "source": [
    "# same same as the other two models: let's try with varying n_components\n",
    "# TODO: how to do perplexity??\n",
    "\n",
    "pipes = [Pipeline([('pca', PCA(n_components=i)),('SVC', SVC(random_state=42))]).fit(X_train,y_train) for i in range(1,30)]\n",
    "y_preds = [pipe.predict(X_test) for pipe in pipes]\n",
    "acc_scores = [accuracy_score(y_test,y_pred) for y_pred in y_preds]\n",
    "# perp_scores = [perplexity_bin(X_train, y_train, X_test, y_test, pipes[i]) for i in range(len(pipes))]\n",
    "\n",
    "# best accuracy score, using x number of n_components\n",
    "max_acc = max(acc_scores)\n",
    "# best_perp = min(perp_scores)\n",
    "\n",
    "best_acc_pvc = acc_scores.index(max_acc)\n",
    "# best_perp_pvc = perp_scores.index(best_perp)\n",
    "\n",
    "\n",
    "df = pd.DataFrame(index=['best_acc', \n",
    "#                          'best_perp', \n",
    "                         'pca=18'])\n",
    "df['accuracy'] = [max_acc, acc_scores[17]]\n",
    "# df['perplexity'] = [perp_scores[best_acc_pvc], best_perp, perp_scores[17],]\n",
    "df['no_pvc'] = [best_acc_pvc+1, 18]\n",
    "\n",
    "df"
   ]
  },
  {
   "cell_type": "markdown",
   "id": "a5f9490b",
   "metadata": {},
   "source": [
    "### 2c. Random Forest\n",
    "\n",
    "Assumptions: TODO\n",
    "\n",
    "Benefits: As an ensemble method, our accuracy is better because we are averaging over the decision trees correctly. For the same reason it is also not as sensitive to outliers. \n",
    "\n",
    "Cons: As an ensemble method, it's not _as_ interpretable_ as our other models. We also don't get probabilities with out predictions. \n",
    "\n",
    "#### Evaluation: \n",
    "Let's again vary the n_components given when training the random forest classification, but this time let's also vary the `max_depth` value that we pass into the random forest function between [2,7]. As we can see below, the best accuracy we get out is when our `n_components` is 4, and our `max_depth` is 6, although we get a _very_ close score of .889 when `n_components` = 17, and `max_depth` = 4. "
   ]
  },
  {
   "cell_type": "code",
   "execution_count": null,
   "id": "ed73a695",
   "metadata": {},
   "outputs": [],
   "source": [
    "# again, same as the other three models: let's try with varying n_components\n",
    "\n",
    "def get_rf_prediction(rf_max_depth):\n",
    "    \"\"\"Returns max accuracy from training a RF model with PCA components with 1-30 components\"\"\"\n",
    "    pipes = [Pipeline([('pca', PCA(n_components=i)),('RF', RandomForestClassifier(random_state=42, max_depth=rf_max_depth))]).fit(X_train,y_train) for i in range(1,30)]\n",
    "    y_preds = [pipe.predict(X_test) for pipe in pipes]\n",
    "    acc_scores = [accuracy_score(y_test,y_pred) for y_pred in y_preds]\n",
    "    return max(acc_scores), acc_scores.index(max_acc)\n",
    "\n",
    "for depth in range(2,8):\n",
    "    print(\"at max depth: \", depth, \": \", get_rf_prediction(depth))"
   ]
  },
  {
   "cell_type": "code",
   "execution_count": null,
   "id": "14015764",
   "metadata": {},
   "outputs": [],
   "source": [
    "accuracies[3] = 0.8953846153846153\n",
    "pcv_no[3] = 4\n",
    "\n",
    "# get perplexity \n",
    "perp = get_perplexity(y_preds[6], y_test)\n",
    "perplexities[3] = perp"
   ]
  },
  {
   "cell_type": "markdown",
   "id": "4285a71a",
   "metadata": {},
   "source": [
    "## 3. Evaluations\n",
    "\n",
    "Let's look at our evaluation scores compile. "
   ]
  },
  {
   "cell_type": "code",
   "execution_count": null,
   "id": "60ffbb84",
   "metadata": {},
   "outputs": [],
   "source": [
    "evaluations['accuracies'] = accuracies\n",
    "evaluations['perplexities'] = perplexities\n",
    "evaluations['cross_valids'] = cross_valids\n",
    "evaluations['pcv_no'] = pcv_no\n",
    "\n",
    "\n",
    "evaluations"
   ]
  },
  {
   "cell_type": "markdown",
   "id": "eaecce6d",
   "metadata": {},
   "source": [
    "# Multiclass test"
   ]
  },
  {
   "cell_type": "code",
   "execution_count": null,
   "id": "fb5409fa",
   "metadata": {},
   "outputs": [],
   "source": [
    "X_train = train_df[mean_cols]\n",
    "y_train_mult = train_df['class4']"
   ]
  },
  {
   "cell_type": "code",
   "execution_count": null,
   "id": "d9c3edd6",
   "metadata": {},
   "outputs": [],
   "source": [
    "X_train_mult,X_test_mult,y_train_mult,y_test_mult = train_test_split(X_train,y_train_mult, test_size=0.25, random_state=42,stratify=y_train_mult)"
   ]
  },
  {
   "cell_type": "code",
   "execution_count": null,
   "id": "d2e4a4d6",
   "metadata": {},
   "outputs": [],
   "source": [
    "y_val_b = (y_test_mult == 3).astype(int)"
   ]
  },
  {
   "cell_type": "code",
   "execution_count": null,
   "id": "3bd800dd",
   "metadata": {},
   "outputs": [],
   "source": [
    "def perplexity(p,y_test):\n",
    "    return np.exp(-np.mean(np.log(y_test*p + (1 - y_test) * (1 - p))))"
   ]
  },
  {
   "cell_type": "code",
   "execution_count": null,
   "id": "0a100954",
   "metadata": {},
   "outputs": [],
   "source": [
    "def acc_pipe_model_mult(name,model,can_prob):\n",
    "    pipe = Pipeline([('scaler',StandardScaler()),('pca',PCA(n_components=20)),(name,model)])\n",
    "    pipe.fit(X_train_mult,y_train_mult)\n",
    "    y_pred = pipe.predict(X_test_mult)\n",
    "    perp = 1\n",
    "    if can_prob:\n",
    "        y_probs = pipe.predict_proba(X_test_mult)\n",
    "        perp = perplexity(y_probs[:,3],y_val_b)\n",
    "    acc = accuracy_score(y_test_mult,y_pred)\n",
    "    return acc,perp,pipe"
   ]
  },
  {
   "cell_type": "code",
   "execution_count": null,
   "id": "842a476b",
   "metadata": {},
   "outputs": [],
   "source": [
    "svc = SVC(random_state=42,probability=True)\n",
    "acc,perp, pipeline = acc_pipe_model_mult('svc',svc,True)\n",
    "print(acc)\n",
    "print(perp)"
   ]
  },
  {
   "cell_type": "code",
   "execution_count": null,
   "id": "83e93a23",
   "metadata": {},
   "outputs": [],
   "source": [
    "cv = StratifiedKFold(n_splits=5)\n",
    "cv_results = cross_validate(svc, X_train_mult, y_train_mult,cv=cv,scoring='accuracy')\n",
    "cv_results"
   ]
  },
  {
   "cell_type": "code",
   "execution_count": null,
   "id": "73735e99",
   "metadata": {},
   "outputs": [],
   "source": [
    "cv_results.keys()"
   ]
  },
  {
   "cell_type": "code",
   "execution_count": null,
   "id": "128eec16",
   "metadata": {},
   "outputs": [],
   "source": [
    "log_l1 = LogisticRegression(multi_class='multinomial', solver='saga', penalty='l1', C=1.0,max_iter=2000)\n",
    "acc, perp,pipeline = acc_pipe_model_mult('log_l1',log_l1,True)\n",
    "print(acc)\n",
    "print(perp)"
   ]
  },
  {
   "cell_type": "code",
   "execution_count": null,
   "id": "2000b1c1",
   "metadata": {},
   "outputs": [],
   "source": [
    "log_ovr = LogisticRegression(multi_class='ovr', solver='saga', penalty='l2', C=1.0,max_iter=2000)\n",
    "acc,perp, pipeline_l = acc_pipe_model_mult('log_ovr',log_ovr,True)\n",
    "print(acc)\n",
    "print(perp)"
   ]
  },
  {
   "cell_type": "code",
   "execution_count": null,
   "id": "ceefba41",
   "metadata": {},
   "outputs": [],
   "source": [
    "rf = RandomForestClassifier(max_depth=2, random_state=0,max_features= 'sqrt')\n",
    "acc,_, pipeline = acc_pipe_model_mult('rf',rf,False)\n",
    "print(acc)"
   ]
  },
  {
   "cell_type": "code",
   "execution_count": null,
   "id": "4ee54090",
   "metadata": {},
   "outputs": [],
   "source": [
    "list_cat"
   ]
  },
  {
   "cell_type": "code",
   "execution_count": null,
   "id": "3c533918",
   "metadata": {},
   "outputs": [],
   "source": [
    "#The model must be already trained and must be able to output probabilities\n",
    "def generate_answers(model):\n",
    "    y_pred = model.predict(X_test)\n",
    "    y_pred_proba= model.predict_proba(X_test)\n",
    "    df = pd.DataFrame()\n",
    "    p_f = []\n",
    "    lab = []\n",
    "    for i,p in zip(y_pred,y_pred_proba):\n",
    "        if i == 3:\n",
    "            p_f.append(p[i])\n",
    "            lab.append(list_cat[i])\n",
    "        else:\n",
    "            p_f.append(p[:3].sum())\n",
    "            lab.append(list_cat[i])\n",
    "    df['class4'] = lab\n",
    "    df['p'] = p_f\n",
    "    df.to_csv('../data/answers.csv',index=False)"
   ]
  },
  {
   "cell_type": "markdown",
   "id": "5eefc921",
   "metadata": {},
   "source": [
    "#TODO Calculate perplexity  \n",
    "#TODO Improve the multiclass prediction  \n",
    "#TODO If we don't use a classifier that gives probabilities, we have to return the probability for each class, like the prior I think."
   ]
  },
  {
   "cell_type": "code",
   "execution_count": null,
   "id": "52f7df1f",
   "metadata": {},
   "outputs": [],
   "source": [
    "generate_answers(pipeline_l)"
   ]
  },
  {
   "cell_type": "code",
   "execution_count": null,
   "id": "acae5549",
   "metadata": {},
   "outputs": [],
   "source": []
  }
 ],
 "metadata": {
  "kernelspec": {
   "display_name": "Python 3",
   "language": "python",
   "name": "python3"
  },
  "language_info": {
   "codemirror_mode": {
    "name": "ipython",
    "version": 3
   },
   "file_extension": ".py",
   "mimetype": "text/x-python",
   "name": "python",
   "nbconvert_exporter": "python",
   "pygments_lexer": "ipython3",
   "version": "3.8.8"
  }
 },
 "nbformat": 4,
 "nbformat_minor": 5
}
