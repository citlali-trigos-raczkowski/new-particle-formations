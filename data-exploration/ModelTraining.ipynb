{
 "cells": [
  {
   "cell_type": "code",
   "execution_count": 1,
   "id": "22e10e37",
   "metadata": {},
   "outputs": [],
   "source": [
    "import pandas as pd\n",
    "import numpy as np"
   ]
  },
  {
   "cell_type": "code",
   "execution_count": 2,
   "id": "65598fff",
   "metadata": {},
   "outputs": [],
   "source": [
    "from sklearn.preprocessing import StandardScaler,PolynomialFeatures\n",
    "from sklearn.pipeline import Pipeline\n",
    "from sklearn.model_selection import train_test_split, GridSearchCV,cross_validate,StratifiedKFold,cross_val_score\n",
    "from matplotlib import pyplot as plt\n",
    "from sklearn.linear_model import LogisticRegression,Lasso\n",
    "from sklearn.feature_selection import VarianceThreshold,SelectKBest,chi2,SelectFromModel\n",
    "from sklearn.svm import LinearSVC,SVC\n",
    "from sklearn.metrics import accuracy_score,confusion_matrix,plot_confusion_matrix,mean_squared_error\n",
    "import seaborn as sns\n",
    "from sklearn.ensemble import RandomForestClassifier\n",
    "from sklearn.naive_bayes import GaussianNB\n",
    "from sklearn.decomposition import PCA\n",
    "from collections import Counter\n",
    "from scipy.stats import norm"
   ]
  },
  {
   "cell_type": "markdown",
   "id": "29075e53",
   "metadata": {},
   "source": [
    "# Import Data"
   ]
  },
  {
   "cell_type": "code",
   "execution_count": 3,
   "id": "542f96c7",
   "metadata": {},
   "outputs": [],
   "source": [
    "npf = pd.read_csv('../data/npf_train.csv')"
   ]
  },
  {
   "cell_type": "code",
   "execution_count": 4,
   "id": "185eb31c",
   "metadata": {},
   "outputs": [],
   "source": [
    "test = pd.read_csv('../data/npf_test_hidden.csv')"
   ]
  },
  {
   "cell_type": "markdown",
   "id": "7e78f047",
   "metadata": {},
   "source": [
    "We are going to only use the columns of the means. The test data only contains the features, not the labels, so we are loading the data, and we will only use it for our final predictions, and we cannot test those."
   ]
  },
  {
   "cell_type": "code",
   "execution_count": 5,
   "id": "c5f3504b",
   "metadata": {},
   "outputs": [],
   "source": [
    "colss = []\n",
    "for i in npf.columns:\n",
    "    if 'mean' in i:\n",
    "        colss.append(i)"
   ]
  },
  {
   "cell_type": "code",
   "execution_count": 6,
   "id": "30388333",
   "metadata": {},
   "outputs": [],
   "source": [
    "X_train = npf[colss]\n",
    "X_test = test[colss]"
   ]
  },
  {
   "cell_type": "markdown",
   "id": "888ba00f",
   "metadata": {},
   "source": [
    "We will use two types of labels, one for the binary classification and one for the multiclass classificacion"
   ]
  },
  {
   "cell_type": "code",
   "execution_count": 7,
   "id": "ca546a3a",
   "metadata": {},
   "outputs": [],
   "source": [
    "y_train = (npf['class4'] != 'nonevent').astype(int)"
   ]
  },
  {
   "cell_type": "code",
   "execution_count": 8,
   "id": "bc57eb9c",
   "metadata": {},
   "outputs": [],
   "source": [
    "npf['class4'] = npf['class4'].astype('category')"
   ]
  },
  {
   "cell_type": "code",
   "execution_count": 9,
   "id": "cbe23ed0",
   "metadata": {},
   "outputs": [],
   "source": [
    "list_cat = npf['class4'].cat.categories.tolist()"
   ]
  },
  {
   "cell_type": "code",
   "execution_count": 10,
   "id": "8e8686a1",
   "metadata": {},
   "outputs": [],
   "source": [
    "y_train_mult = npf['class4'].cat.codes"
   ]
  },
  {
   "cell_type": "code",
   "execution_count": 11,
   "id": "3ce81866",
   "metadata": {},
   "outputs": [
    {
     "data": {
      "text/plain": [
       "['II', 'Ia', 'Ib', 'nonevent']"
      ]
     },
     "execution_count": 11,
     "metadata": {},
     "output_type": "execute_result"
    }
   ],
   "source": [
    "list_cat"
   ]
  },
  {
   "cell_type": "code",
   "execution_count": 12,
   "id": "eaee0701",
   "metadata": {},
   "outputs": [],
   "source": [
    "#npf.columns.to_list()"
   ]
  },
  {
   "cell_type": "code",
   "execution_count": 13,
   "id": "a667d7fb",
   "metadata": {},
   "outputs": [],
   "source": [
    "cols_co = []\n",
    "for i in npf.columns:\n",
    "    if 'CO' in i:\n",
    "        cols_co.append(i)"
   ]
  },
  {
   "cell_type": "code",
   "execution_count": 14,
   "id": "11a53792",
   "metadata": {},
   "outputs": [
    {
     "data": {
      "text/html": [
       "<div>\n",
       "<style scoped>\n",
       "    .dataframe tbody tr th:only-of-type {\n",
       "        vertical-align: middle;\n",
       "    }\n",
       "\n",
       "    .dataframe tbody tr th {\n",
       "        vertical-align: top;\n",
       "    }\n",
       "\n",
       "    .dataframe thead th {\n",
       "        text-align: right;\n",
       "    }\n",
       "</style>\n",
       "<table border=\"1\" class=\"dataframe\">\n",
       "  <thead>\n",
       "    <tr style=\"text-align: right;\">\n",
       "      <th></th>\n",
       "      <th>CO2168.mean</th>\n",
       "      <th>CO2168.std</th>\n",
       "      <th>CO2336.mean</th>\n",
       "      <th>CO2336.std</th>\n",
       "      <th>CO242.mean</th>\n",
       "      <th>CO242.std</th>\n",
       "      <th>CO2504.mean</th>\n",
       "      <th>CO2504.std</th>\n",
       "    </tr>\n",
       "  </thead>\n",
       "  <tbody>\n",
       "    <tr>\n",
       "      <th>count</th>\n",
       "      <td>464.000000</td>\n",
       "      <td>464.000000</td>\n",
       "      <td>464.000000</td>\n",
       "      <td>464.000000</td>\n",
       "      <td>464.000000</td>\n",
       "      <td>464.000000</td>\n",
       "      <td>464.000000</td>\n",
       "      <td>464.000000</td>\n",
       "    </tr>\n",
       "    <tr>\n",
       "      <th>mean</th>\n",
       "      <td>382.072525</td>\n",
       "      <td>3.129971</td>\n",
       "      <td>382.086831</td>\n",
       "      <td>2.940651</td>\n",
       "      <td>382.977945</td>\n",
       "      <td>3.991636</td>\n",
       "      <td>381.990305</td>\n",
       "      <td>2.718960</td>\n",
       "    </tr>\n",
       "    <tr>\n",
       "      <th>std</th>\n",
       "      <td>11.080110</td>\n",
       "      <td>3.222030</td>\n",
       "      <td>11.055166</td>\n",
       "      <td>2.973224</td>\n",
       "      <td>10.665746</td>\n",
       "      <td>4.184408</td>\n",
       "      <td>11.067589</td>\n",
       "      <td>2.696396</td>\n",
       "    </tr>\n",
       "    <tr>\n",
       "      <th>min</th>\n",
       "      <td>359.579024</td>\n",
       "      <td>0.053968</td>\n",
       "      <td>359.096905</td>\n",
       "      <td>0.048990</td>\n",
       "      <td>361.904203</td>\n",
       "      <td>0.111492</td>\n",
       "      <td>358.786190</td>\n",
       "      <td>0.037417</td>\n",
       "    </tr>\n",
       "    <tr>\n",
       "      <th>25%</th>\n",
       "      <td>374.398155</td>\n",
       "      <td>0.845635</td>\n",
       "      <td>374.389589</td>\n",
       "      <td>0.789586</td>\n",
       "      <td>375.410833</td>\n",
       "      <td>0.949196</td>\n",
       "      <td>374.324536</td>\n",
       "      <td>0.781563</td>\n",
       "    </tr>\n",
       "    <tr>\n",
       "      <th>50%</th>\n",
       "      <td>380.814198</td>\n",
       "      <td>1.952732</td>\n",
       "      <td>380.727947</td>\n",
       "      <td>1.899320</td>\n",
       "      <td>381.600970</td>\n",
       "      <td>2.272311</td>\n",
       "      <td>380.632912</td>\n",
       "      <td>1.758853</td>\n",
       "    </tr>\n",
       "    <tr>\n",
       "      <th>75%</th>\n",
       "      <td>389.048782</td>\n",
       "      <td>4.428063</td>\n",
       "      <td>389.028476</td>\n",
       "      <td>4.141001</td>\n",
       "      <td>389.731608</td>\n",
       "      <td>5.960286</td>\n",
       "      <td>388.973036</td>\n",
       "      <td>3.903496</td>\n",
       "    </tr>\n",
       "    <tr>\n",
       "      <th>max</th>\n",
       "      <td>421.511176</td>\n",
       "      <td>19.460521</td>\n",
       "      <td>421.057843</td>\n",
       "      <td>17.439857</td>\n",
       "      <td>422.627800</td>\n",
       "      <td>20.851661</td>\n",
       "      <td>419.924510</td>\n",
       "      <td>16.656066</td>\n",
       "    </tr>\n",
       "  </tbody>\n",
       "</table>\n",
       "</div>"
      ],
      "text/plain": [
       "       CO2168.mean  CO2168.std  CO2336.mean  CO2336.std  CO242.mean  \\\n",
       "count   464.000000  464.000000   464.000000  464.000000  464.000000   \n",
       "mean    382.072525    3.129971   382.086831    2.940651  382.977945   \n",
       "std      11.080110    3.222030    11.055166    2.973224   10.665746   \n",
       "min     359.579024    0.053968   359.096905    0.048990  361.904203   \n",
       "25%     374.398155    0.845635   374.389589    0.789586  375.410833   \n",
       "50%     380.814198    1.952732   380.727947    1.899320  381.600970   \n",
       "75%     389.048782    4.428063   389.028476    4.141001  389.731608   \n",
       "max     421.511176   19.460521   421.057843   17.439857  422.627800   \n",
       "\n",
       "        CO242.std  CO2504.mean  CO2504.std  \n",
       "count  464.000000   464.000000  464.000000  \n",
       "mean     3.991636   381.990305    2.718960  \n",
       "std      4.184408    11.067589    2.696396  \n",
       "min      0.111492   358.786190    0.037417  \n",
       "25%      0.949196   374.324536    0.781563  \n",
       "50%      2.272311   380.632912    1.758853  \n",
       "75%      5.960286   388.973036    3.903496  \n",
       "max     20.851661   419.924510   16.656066  "
      ]
     },
     "execution_count": 14,
     "metadata": {},
     "output_type": "execute_result"
    }
   ],
   "source": [
    "npf[cols_co].describe()"
   ]
  },
  {
   "cell_type": "code",
   "execution_count": 15,
   "id": "a55ad264",
   "metadata": {},
   "outputs": [],
   "source": [
    "cols_uv = []\n",
    "for i in npf.columns:\n",
    "    if 'UV' in i:\n",
    "        cols_uv.append(i)"
   ]
  },
  {
   "cell_type": "code",
   "execution_count": 16,
   "id": "24c27d1d",
   "metadata": {},
   "outputs": [
    {
     "data": {
      "text/html": [
       "<div>\n",
       "<style scoped>\n",
       "    .dataframe tbody tr th:only-of-type {\n",
       "        vertical-align: middle;\n",
       "    }\n",
       "\n",
       "    .dataframe tbody tr th {\n",
       "        vertical-align: top;\n",
       "    }\n",
       "\n",
       "    .dataframe thead th {\n",
       "        text-align: right;\n",
       "    }\n",
       "</style>\n",
       "<table border=\"1\" class=\"dataframe\">\n",
       "  <thead>\n",
       "    <tr style=\"text-align: right;\">\n",
       "      <th></th>\n",
       "      <th>UV_A.mean</th>\n",
       "      <th>UV_A.std</th>\n",
       "      <th>UV_B.mean</th>\n",
       "      <th>UV_B.std</th>\n",
       "    </tr>\n",
       "  </thead>\n",
       "  <tbody>\n",
       "    <tr>\n",
       "      <th>count</th>\n",
       "      <td>464.000000</td>\n",
       "      <td>464.000000</td>\n",
       "      <td>464.000000</td>\n",
       "      <td>464.000000</td>\n",
       "    </tr>\n",
       "    <tr>\n",
       "      <th>mean</th>\n",
       "      <td>10.623039</td>\n",
       "      <td>7.450957</td>\n",
       "      <td>0.428800</td>\n",
       "      <td>0.366484</td>\n",
       "    </tr>\n",
       "    <tr>\n",
       "      <th>std</th>\n",
       "      <td>6.641686</td>\n",
       "      <td>4.989293</td>\n",
       "      <td>0.316118</td>\n",
       "      <td>0.287019</td>\n",
       "    </tr>\n",
       "    <tr>\n",
       "      <th>min</th>\n",
       "      <td>0.295937</td>\n",
       "      <td>0.177836</td>\n",
       "      <td>0.005140</td>\n",
       "      <td>0.003552</td>\n",
       "    </tr>\n",
       "    <tr>\n",
       "      <th>25%</th>\n",
       "      <td>4.236750</td>\n",
       "      <td>2.431709</td>\n",
       "      <td>0.125858</td>\n",
       "      <td>0.086265</td>\n",
       "    </tr>\n",
       "    <tr>\n",
       "      <th>50%</th>\n",
       "      <td>11.327445</td>\n",
       "      <td>7.588452</td>\n",
       "      <td>0.402249</td>\n",
       "      <td>0.334264</td>\n",
       "    </tr>\n",
       "    <tr>\n",
       "      <th>75%</th>\n",
       "      <td>16.460523</td>\n",
       "      <td>11.827837</td>\n",
       "      <td>0.669968</td>\n",
       "      <td>0.589098</td>\n",
       "    </tr>\n",
       "    <tr>\n",
       "      <th>max</th>\n",
       "      <td>22.541204</td>\n",
       "      <td>16.830501</td>\n",
       "      <td>1.197271</td>\n",
       "      <td>1.055615</td>\n",
       "    </tr>\n",
       "  </tbody>\n",
       "</table>\n",
       "</div>"
      ],
      "text/plain": [
       "        UV_A.mean    UV_A.std   UV_B.mean    UV_B.std\n",
       "count  464.000000  464.000000  464.000000  464.000000\n",
       "mean    10.623039    7.450957    0.428800    0.366484\n",
       "std      6.641686    4.989293    0.316118    0.287019\n",
       "min      0.295937    0.177836    0.005140    0.003552\n",
       "25%      4.236750    2.431709    0.125858    0.086265\n",
       "50%     11.327445    7.588452    0.402249    0.334264\n",
       "75%     16.460523   11.827837    0.669968    0.589098\n",
       "max     22.541204   16.830501    1.197271    1.055615"
      ]
     },
     "execution_count": 16,
     "metadata": {},
     "output_type": "execute_result"
    }
   ],
   "source": [
    "npf[cols_uv].describe()"
   ]
  },
  {
   "cell_type": "code",
   "execution_count": 17,
   "id": "6e262b66",
   "metadata": {},
   "outputs": [],
   "source": [
    "cols_nox = []\n",
    "for i in npf.columns:\n",
    "    if 'NOx' in i:\n",
    "        cols_nox.append(i)"
   ]
  },
  {
   "cell_type": "code",
   "execution_count": 18,
   "id": "2704a97f",
   "metadata": {},
   "outputs": [
    {
     "data": {
      "text/html": [
       "<div>\n",
       "<style scoped>\n",
       "    .dataframe tbody tr th:only-of-type {\n",
       "        vertical-align: middle;\n",
       "    }\n",
       "\n",
       "    .dataframe tbody tr th {\n",
       "        vertical-align: top;\n",
       "    }\n",
       "\n",
       "    .dataframe thead th {\n",
       "        text-align: right;\n",
       "    }\n",
       "</style>\n",
       "<table border=\"1\" class=\"dataframe\">\n",
       "  <thead>\n",
       "    <tr style=\"text-align: right;\">\n",
       "      <th></th>\n",
       "      <th>NOx168.mean</th>\n",
       "      <th>NOx168.std</th>\n",
       "      <th>NOx336.mean</th>\n",
       "      <th>NOx336.std</th>\n",
       "      <th>NOx42.mean</th>\n",
       "      <th>NOx42.std</th>\n",
       "      <th>NOx504.mean</th>\n",
       "      <th>NOx504.std</th>\n",
       "      <th>NOx672.mean</th>\n",
       "      <th>NOx672.std</th>\n",
       "      <th>NOx84.mean</th>\n",
       "      <th>NOx84.std</th>\n",
       "    </tr>\n",
       "  </thead>\n",
       "  <tbody>\n",
       "    <tr>\n",
       "      <th>count</th>\n",
       "      <td>464.000000</td>\n",
       "      <td>464.000000</td>\n",
       "      <td>464.000000</td>\n",
       "      <td>464.000000</td>\n",
       "      <td>464.000000</td>\n",
       "      <td>464.000000</td>\n",
       "      <td>464.000000</td>\n",
       "      <td>464.000000</td>\n",
       "      <td>464.000000</td>\n",
       "      <td>464.000000</td>\n",
       "      <td>464.000000</td>\n",
       "      <td>464.000000</td>\n",
       "    </tr>\n",
       "    <tr>\n",
       "      <th>mean</th>\n",
       "      <td>1.524826</td>\n",
       "      <td>0.513098</td>\n",
       "      <td>1.515605</td>\n",
       "      <td>0.513671</td>\n",
       "      <td>1.539901</td>\n",
       "      <td>0.629941</td>\n",
       "      <td>1.500263</td>\n",
       "      <td>0.524602</td>\n",
       "      <td>1.485461</td>\n",
       "      <td>0.501666</td>\n",
       "      <td>1.523097</td>\n",
       "      <td>0.524541</td>\n",
       "    </tr>\n",
       "    <tr>\n",
       "      <th>std</th>\n",
       "      <td>1.562047</td>\n",
       "      <td>0.567170</td>\n",
       "      <td>1.550865</td>\n",
       "      <td>0.588911</td>\n",
       "      <td>1.561838</td>\n",
       "      <td>0.965904</td>\n",
       "      <td>1.534103</td>\n",
       "      <td>0.639183</td>\n",
       "      <td>1.509143</td>\n",
       "      <td>0.539275</td>\n",
       "      <td>1.556202</td>\n",
       "      <td>0.570919</td>\n",
       "    </tr>\n",
       "    <tr>\n",
       "      <th>min</th>\n",
       "      <td>0.094902</td>\n",
       "      <td>0.036056</td>\n",
       "      <td>0.095000</td>\n",
       "      <td>0.057799</td>\n",
       "      <td>0.088827</td>\n",
       "      <td>0.066777</td>\n",
       "      <td>0.083580</td>\n",
       "      <td>0.056787</td>\n",
       "      <td>0.083800</td>\n",
       "      <td>0.051221</td>\n",
       "      <td>0.100494</td>\n",
       "      <td>0.057885</td>\n",
       "    </tr>\n",
       "    <tr>\n",
       "      <th>25%</th>\n",
       "      <td>0.508232</td>\n",
       "      <td>0.219415</td>\n",
       "      <td>0.505776</td>\n",
       "      <td>0.209040</td>\n",
       "      <td>0.535792</td>\n",
       "      <td>0.232373</td>\n",
       "      <td>0.498524</td>\n",
       "      <td>0.205190</td>\n",
       "      <td>0.500160</td>\n",
       "      <td>0.209008</td>\n",
       "      <td>0.505098</td>\n",
       "      <td>0.220157</td>\n",
       "    </tr>\n",
       "    <tr>\n",
       "      <th>50%</th>\n",
       "      <td>1.023372</td>\n",
       "      <td>0.350916</td>\n",
       "      <td>1.018741</td>\n",
       "      <td>0.341148</td>\n",
       "      <td>1.030888</td>\n",
       "      <td>0.369631</td>\n",
       "      <td>1.021234</td>\n",
       "      <td>0.345345</td>\n",
       "      <td>1.006570</td>\n",
       "      <td>0.344222</td>\n",
       "      <td>1.028947</td>\n",
       "      <td>0.357782</td>\n",
       "    </tr>\n",
       "    <tr>\n",
       "      <th>75%</th>\n",
       "      <td>2.011767</td>\n",
       "      <td>0.621585</td>\n",
       "      <td>1.992565</td>\n",
       "      <td>0.620956</td>\n",
       "      <td>1.975454</td>\n",
       "      <td>0.702948</td>\n",
       "      <td>1.957519</td>\n",
       "      <td>0.621621</td>\n",
       "      <td>1.964400</td>\n",
       "      <td>0.593114</td>\n",
       "      <td>2.004526</td>\n",
       "      <td>0.653744</td>\n",
       "    </tr>\n",
       "    <tr>\n",
       "      <th>max</th>\n",
       "      <td>12.634286</td>\n",
       "      <td>6.269858</td>\n",
       "      <td>12.544643</td>\n",
       "      <td>6.066214</td>\n",
       "      <td>12.332321</td>\n",
       "      <td>12.423140</td>\n",
       "      <td>12.247500</td>\n",
       "      <td>5.939282</td>\n",
       "      <td>12.037857</td>\n",
       "      <td>5.921116</td>\n",
       "      <td>12.454727</td>\n",
       "      <td>6.212959</td>\n",
       "    </tr>\n",
       "  </tbody>\n",
       "</table>\n",
       "</div>"
      ],
      "text/plain": [
       "       NOx168.mean  NOx168.std  NOx336.mean  NOx336.std  NOx42.mean  \\\n",
       "count   464.000000  464.000000   464.000000  464.000000  464.000000   \n",
       "mean      1.524826    0.513098     1.515605    0.513671    1.539901   \n",
       "std       1.562047    0.567170     1.550865    0.588911    1.561838   \n",
       "min       0.094902    0.036056     0.095000    0.057799    0.088827   \n",
       "25%       0.508232    0.219415     0.505776    0.209040    0.535792   \n",
       "50%       1.023372    0.350916     1.018741    0.341148    1.030888   \n",
       "75%       2.011767    0.621585     1.992565    0.620956    1.975454   \n",
       "max      12.634286    6.269858    12.544643    6.066214   12.332321   \n",
       "\n",
       "        NOx42.std  NOx504.mean  NOx504.std  NOx672.mean  NOx672.std  \\\n",
       "count  464.000000   464.000000  464.000000   464.000000  464.000000   \n",
       "mean     0.629941     1.500263    0.524602     1.485461    0.501666   \n",
       "std      0.965904     1.534103    0.639183     1.509143    0.539275   \n",
       "min      0.066777     0.083580    0.056787     0.083800    0.051221   \n",
       "25%      0.232373     0.498524    0.205190     0.500160    0.209008   \n",
       "50%      0.369631     1.021234    0.345345     1.006570    0.344222   \n",
       "75%      0.702948     1.957519    0.621621     1.964400    0.593114   \n",
       "max     12.423140    12.247500    5.939282    12.037857    5.921116   \n",
       "\n",
       "       NOx84.mean   NOx84.std  \n",
       "count  464.000000  464.000000  \n",
       "mean     1.523097    0.524541  \n",
       "std      1.556202    0.570919  \n",
       "min      0.100494    0.057885  \n",
       "25%      0.505098    0.220157  \n",
       "50%      1.028947    0.357782  \n",
       "75%      2.004526    0.653744  \n",
       "max     12.454727    6.212959  "
      ]
     },
     "execution_count": 18,
     "metadata": {},
     "output_type": "execute_result"
    }
   ],
   "source": [
    "npf[cols_nox].describe()"
   ]
  },
  {
   "cell_type": "code",
   "execution_count": 19,
   "id": "1a7aec38",
   "metadata": {},
   "outputs": [
    {
     "data": {
      "text/plain": [
       "437"
      ]
     },
     "execution_count": 19,
     "metadata": {},
     "output_type": "execute_result"
    }
   ],
   "source": [
    "npf['NOx168.mean'].idxmax()"
   ]
  },
  {
   "cell_type": "code",
   "execution_count": 20,
   "id": "6c5e46e6",
   "metadata": {},
   "outputs": [
    {
     "data": {
      "text/plain": [
       "id                    438\n",
       "date           2011-01-05\n",
       "class4           nonevent\n",
       "partlybad           False\n",
       "CO2168.mean    421.511176\n",
       "                  ...    \n",
       "UV_A.std          0.83385\n",
       "UV_B.mean        0.049601\n",
       "UV_B.std         0.023256\n",
       "CS.mean           0.00429\n",
       "CS.std           0.000234\n",
       "Name: 437, Length: 104, dtype: object"
      ]
     },
     "execution_count": 20,
     "metadata": {},
     "output_type": "execute_result"
    }
   ],
   "source": [
    "npf.loc[437]"
   ]
  },
  {
   "cell_type": "code",
   "execution_count": 21,
   "id": "b61023c5",
   "metadata": {},
   "outputs": [
    {
     "data": {
      "text/html": [
       "<div>\n",
       "<style scoped>\n",
       "    .dataframe tbody tr th:only-of-type {\n",
       "        vertical-align: middle;\n",
       "    }\n",
       "\n",
       "    .dataframe tbody tr th {\n",
       "        vertical-align: top;\n",
       "    }\n",
       "\n",
       "    .dataframe thead th {\n",
       "        text-align: right;\n",
       "    }\n",
       "</style>\n",
       "<table border=\"1\" class=\"dataframe\">\n",
       "  <thead>\n",
       "    <tr style=\"text-align: right;\">\n",
       "      <th></th>\n",
       "      <th>CO2168.mean</th>\n",
       "      <th>CO2168.std</th>\n",
       "    </tr>\n",
       "  </thead>\n",
       "  <tbody>\n",
       "    <tr>\n",
       "      <th>0</th>\n",
       "      <td>368.771711</td>\n",
       "      <td>0.310309</td>\n",
       "    </tr>\n",
       "    <tr>\n",
       "      <th>1</th>\n",
       "      <td>378.197295</td>\n",
       "      <td>1.001493</td>\n",
       "    </tr>\n",
       "    <tr>\n",
       "      <th>2</th>\n",
       "      <td>373.043158</td>\n",
       "      <td>0.749865</td>\n",
       "    </tr>\n",
       "    <tr>\n",
       "      <th>3</th>\n",
       "      <td>375.643019</td>\n",
       "      <td>0.558629</td>\n",
       "    </tr>\n",
       "    <tr>\n",
       "      <th>4</th>\n",
       "      <td>377.661030</td>\n",
       "      <td>0.408421</td>\n",
       "    </tr>\n",
       "    <tr>\n",
       "      <th>...</th>\n",
       "      <td>...</td>\n",
       "      <td>...</td>\n",
       "    </tr>\n",
       "    <tr>\n",
       "      <th>459</th>\n",
       "      <td>381.016623</td>\n",
       "      <td>4.411571</td>\n",
       "    </tr>\n",
       "    <tr>\n",
       "      <th>460</th>\n",
       "      <td>383.698146</td>\n",
       "      <td>8.418351</td>\n",
       "    </tr>\n",
       "    <tr>\n",
       "      <th>461</th>\n",
       "      <td>379.279128</td>\n",
       "      <td>12.045785</td>\n",
       "    </tr>\n",
       "    <tr>\n",
       "      <th>462</th>\n",
       "      <td>384.443758</td>\n",
       "      <td>6.413297</td>\n",
       "    </tr>\n",
       "    <tr>\n",
       "      <th>463</th>\n",
       "      <td>382.230839</td>\n",
       "      <td>6.407469</td>\n",
       "    </tr>\n",
       "  </tbody>\n",
       "</table>\n",
       "<p>464 rows × 2 columns</p>\n",
       "</div>"
      ],
      "text/plain": [
       "     CO2168.mean  CO2168.std\n",
       "0     368.771711    0.310309\n",
       "1     378.197295    1.001493\n",
       "2     373.043158    0.749865\n",
       "3     375.643019    0.558629\n",
       "4     377.661030    0.408421\n",
       "..           ...         ...\n",
       "459   381.016623    4.411571\n",
       "460   383.698146    8.418351\n",
       "461   379.279128   12.045785\n",
       "462   384.443758    6.413297\n",
       "463   382.230839    6.407469\n",
       "\n",
       "[464 rows x 2 columns]"
      ]
     },
     "execution_count": 21,
     "metadata": {},
     "output_type": "execute_result"
    }
   ],
   "source": [
    "npf[['CO2168.mean','CO2168.std']]"
   ]
  },
  {
   "cell_type": "code",
   "execution_count": 22,
   "id": "1a6b4568",
   "metadata": {},
   "outputs": [
    {
     "data": {
      "image/png": "[encoded data removed]",
      "text/plain": [
       "<Figure size 640x480 with 1 Axes>"
      ]
     },
     "metadata": {},
     "output_type": "display_data"
    }
   ],
   "source": [
    "x_axis = np.arange(350,430, 0.1)\n",
    "\n",
    "for i, r in npf[['CO2168.mean','CO2168.std']].iterrows():\n",
    "    plt.plot(x_axis, norm.pdf(x_axis, r['CO2168.mean'], r['CO2168.std']))"
   ]
  },
  {
   "cell_type": "code",
   "execution_count": 23,
   "id": "e0429585",
   "metadata": {},
   "outputs": [
    {
     "data": {
      "image/png": "[encoded data removed]",
      "text/plain": [
       "<Figure size 640x480 with 1 Axes>"
      ]
     },
     "metadata": {},
     "output_type": "display_data"
    }
   ],
   "source": [
    "x_axis = np.arange(-50,50, 0.1)\n",
    "\n",
    "for i, r in npf[['T672.mean', 'T672.std']].iterrows():\n",
    "    plt.plot(x_axis, norm.pdf(x_axis, r['T672.mean'], r['T672.std']))"
   ]
  },
  {
   "cell_type": "code",
   "execution_count": 24,
   "id": "6932ae08",
   "metadata": {},
   "outputs": [
    {
     "data": {
      "image/png": "[encoded data removed]",
      "text/plain": [
       "<Figure size 640x480 with 1 Axes>"
      ]
     },
     "metadata": {},
     "output_type": "display_data"
    }
   ],
   "source": [
    "x_axis = np.arange(-5,30, 0.1)\n",
    "\n",
    "for i, r in npf[['UV_A.mean', 'UV_A.std']].iterrows():\n",
    "    plt.plot(x_axis, norm.pdf(x_axis, r['UV_A.mean'], r['UV_A.std']))"
   ]
  },
  {
   "cell_type": "code",
   "execution_count": 25,
   "id": "39bac7c2",
   "metadata": {},
   "outputs": [
    {
     "data": {
      "image/png": "[encoded data removed]",
      "text/plain": [
       "<Figure size 640x480 with 1 Axes>"
      ]
     },
     "metadata": {},
     "output_type": "display_data"
    }
   ],
   "source": [
    "x_axis = np.arange(-0.2,0.3, 0.1)\n",
    "\n",
    "for i, r in npf[['CS.mean', 'CS.std']].iterrows():\n",
    "    plt.plot(x_axis, norm.pdf(x_axis, r['CS.mean'], r['CS.std']))"
   ]
  },
  {
   "cell_type": "code",
   "execution_count": null,
   "id": "23fd7266",
   "metadata": {},
   "outputs": [],
   "source": []
  },
  {
   "cell_type": "markdown",
   "id": "80f635f7",
   "metadata": {},
   "source": [
    "## PCA\n",
    "\n",
    "The data for PCA must be scaled first to 0 mean and unit variance. Then, we are testing which is the value of k that give us the most information."
   ]
  },
  {
   "cell_type": "code",
   "execution_count": 26,
   "id": "0c4abccb",
   "metadata": {},
   "outputs": [],
   "source": [
    "scaler = StandardScaler()\n",
    "X = scaler.fit_transform(X_train)\n",
    "X_test_sc = scaler.transform(X_test)"
   ]
  },
  {
   "cell_type": "code",
   "execution_count": 27,
   "id": "d91729df",
   "metadata": {},
   "outputs": [
    {
     "data": {
      "image/png": "[encoded data removed]",
      "text/plain": [
       "<Figure size 640x480 with 1 Axes>"
      ]
     },
     "metadata": {},
     "output_type": "display_data"
    }
   ],
   "source": [
    "pca = PCA()\n",
    "#\n",
    "# Determine transformed features\n",
    "#\n",
    "X_train_pca = pca.fit_transform(X)\n",
    "#\n",
    "# Determine explained variance using explained_variance_ration_ attribute\n",
    "#\n",
    "exp_var_pca = pca.explained_variance_ratio_\n",
    "#\n",
    "# Cumulative sum of eigenvalues; This will be used to create step plot\n",
    "# for visualizing the variance explained by each principal component.\n",
    "#\n",
    "cum_sum_eigenvalues = np.cumsum(exp_var_pca)\n",
    "#\n",
    "# Create the visualization plot\n",
    "#\n",
    "plt.bar(range(0,len(exp_var_pca)), exp_var_pca, alpha=0.5, align='center', label='Individual explained variance')\n",
    "plt.step(range(0,len(cum_sum_eigenvalues)), cum_sum_eigenvalues, where='mid',label='Cumulative explained variance')\n",
    "plt.ylabel('Explained variance ratio')\n",
    "plt.xlabel('Principal component index')\n",
    "plt.title(\"PCA variance for standarized data\")\n",
    "plt.legend(loc='best')\n",
    "plt.tight_layout()\n",
    "plt.show()"
   ]
  },
  {
   "cell_type": "code",
   "execution_count": 28,
   "id": "23c2f6b8",
   "metadata": {},
   "outputs": [],
   "source": [
    "pca = PCA(n_components=18)\n",
    "X_pca = pca.fit_transform(X)\n",
    "X_test_pca = pca.transform(X_test_sc)"
   ]
  },
  {
   "cell_type": "code",
   "execution_count": 29,
   "id": "941befe1",
   "metadata": {},
   "outputs": [],
   "source": [
    "svc = SVC(random_state=42)\n",
    "svc.fit(X_pca,y_train)\n",
    "y_pred = svc.predict(X_test_pca)\n",
    "#accuracy_score(y_test,y_pred)"
   ]
  },
  {
   "cell_type": "code",
   "execution_count": 30,
   "id": "845021a4",
   "metadata": {},
   "outputs": [],
   "source": [
    "X_train_copy = X_train\n",
    "y_train_copy = y_train\n",
    "X_train,X_val,y_train,y_val = train_test_split(X_train,y_train, test_size=0.75, random_state=42)"
   ]
  },
  {
   "cell_type": "code",
   "execution_count": 31,
   "id": "c4378ff6",
   "metadata": {},
   "outputs": [],
   "source": [
    "pipe = Pipeline([('scaler',StandardScaler()),('pca',PCA(n_components=18)),('SVC',SVC(random_state=42))])"
   ]
  },
  {
   "cell_type": "code",
   "execution_count": 32,
   "id": "930691eb",
   "metadata": {},
   "outputs": [
    {
     "data": {
      "text/html": [
       "<style>#sk-container-id-1 {color: black;background-color: white;}#sk-container-id-1 pre{padding: 0;}#sk-container-id-1 div.sk-toggleable {background-color: white;}#sk-container-id-1 label.sk-toggleable__label {cursor: pointer;display: block;width: 100%;margin-bottom: 0;padding: 0.3em;box-sizing: border-box;text-align: center;}#sk-container-id-1 label.sk-toggleable__label-arrow:before {content: \"▸\";float: left;margin-right: 0.25em;color: #696969;}#sk-container-id-1 label.sk-toggleable__label-arrow:hover:before {color: black;}#sk-container-id-1 div.sk-estimator:hover label.sk-toggleable__label-arrow:before {color: black;}#sk-container-id-1 div.sk-toggleable__content {max-height: 0;max-width: 0;overflow: hidden;text-align: left;background-color: #f0f8ff;}#sk-container-id-1 div.sk-toggleable__content pre {margin: 0.2em;color: black;border-radius: 0.25em;background-color: #f0f8ff;}#sk-container-id-1 input.sk-toggleable__control:checked~div.sk-toggleable__content {max-height: 200px;max-width: 100%;overflow: auto;}#sk-container-id-1 input.sk-toggleable__control:checked~label.sk-toggleable__label-arrow:before {content: \"▾\";}#sk-container-id-1 div.sk-estimator input.sk-toggleable__control:checked~label.sk-toggleable__label {background-color: #d4ebff;}#sk-container-id-1 div.sk-label input.sk-toggleable__control:checked~label.sk-toggleable__label {background-color: #d4ebff;}#sk-container-id-1 input.sk-hidden--visually {border: 0;clip: rect(1px 1px 1px 1px);clip: rect(1px, 1px, 1px, 1px);height: 1px;margin: -1px;overflow: hidden;padding: 0;position: absolute;width: 1px;}#sk-container-id-1 div.sk-estimator {font-family: monospace;background-color: #f0f8ff;border: 1px dotted black;border-radius: 0.25em;box-sizing: border-box;margin-bottom: 0.5em;}#sk-container-id-1 div.sk-estimator:hover {background-color: #d4ebff;}#sk-container-id-1 div.sk-parallel-item::after {content: \"\";width: 100%;border-bottom: 1px solid gray;flex-grow: 1;}#sk-container-id-1 div.sk-label:hover label.sk-toggleable__label {background-color: #d4ebff;}#sk-container-id-1 div.sk-serial::before {content: \"\";position: absolute;border-left: 1px solid gray;box-sizing: border-box;top: 0;bottom: 0;left: 50%;z-index: 0;}#sk-container-id-1 div.sk-serial {display: flex;flex-direction: column;align-items: center;background-color: white;padding-right: 0.2em;padding-left: 0.2em;position: relative;}#sk-container-id-1 div.sk-item {position: relative;z-index: 1;}#sk-container-id-1 div.sk-parallel {display: flex;align-items: stretch;justify-content: center;background-color: white;position: relative;}#sk-container-id-1 div.sk-item::before, #sk-container-id-1 div.sk-parallel-item::before {content: \"\";position: absolute;border-left: 1px solid gray;box-sizing: border-box;top: 0;bottom: 0;left: 50%;z-index: -1;}#sk-container-id-1 div.sk-parallel-item {display: flex;flex-direction: column;z-index: 1;position: relative;background-color: white;}#sk-container-id-1 div.sk-parallel-item:first-child::after {align-self: flex-end;width: 50%;}#sk-container-id-1 div.sk-parallel-item:last-child::after {align-self: flex-start;width: 50%;}#sk-container-id-1 div.sk-parallel-item:only-child::after {width: 0;}#sk-container-id-1 div.sk-dashed-wrapped {border: 1px dashed gray;margin: 0 0.4em 0.5em 0.4em;box-sizing: border-box;padding-bottom: 0.4em;background-color: white;}#sk-container-id-1 div.sk-label label {font-family: monospace;font-weight: bold;display: inline-block;line-height: 1.2em;}#sk-container-id-1 div.sk-label-container {text-align: center;}#sk-container-id-1 div.sk-container {/* jupyter's `normalize.less` sets `[hidden] { display: none; }` but bootstrap.min.css set `[hidden] { display: none !important; }` so we also need the `!important` here to be able to override the default hidden behavior on the sphinx rendered scikit-learn.org. See: https://github.com/scikit-learn/scikit-learn/issues/21755 */display: inline-block !important;position: relative;}#sk-container-id-1 div.sk-text-repr-fallback {display: none;}</style><div id=\"sk-container-id-1\" class=\"sk-top-container\"><div class=\"sk-text-repr-fallback\"><pre>Pipeline(steps=[(&#x27;scaler&#x27;, StandardScaler()), (&#x27;pca&#x27;, PCA(n_components=18)),\n",
       "                (&#x27;SVC&#x27;, SVC(random_state=42))])</pre><b>In a Jupyter environment, please rerun this cell to show the HTML representation or trust the notebook. <br />On GitHub, the HTML representation is unable to render, please try loading this page with nbviewer.org.</b></div><div class=\"sk-container\" hidden><div class=\"sk-item sk-dashed-wrapped\"><div class=\"sk-label-container\"><div class=\"sk-label sk-toggleable\"><input class=\"sk-toggleable__control sk-hidden--visually\" id=\"sk-estimator-id-1\" type=\"checkbox\" ><label for=\"sk-estimator-id-1\" class=\"sk-toggleable__label sk-toggleable__label-arrow\">Pipeline</label><div class=\"sk-toggleable__content\"><pre>Pipeline(steps=[(&#x27;scaler&#x27;, StandardScaler()), (&#x27;pca&#x27;, PCA(n_components=18)),\n",
       "                (&#x27;SVC&#x27;, SVC(random_state=42))])</pre></div></div></div><div class=\"sk-serial\"><div class=\"sk-item\"><div class=\"sk-estimator sk-toggleable\"><input class=\"sk-toggleable__control sk-hidden--visually\" id=\"sk-estimator-id-2\" type=\"checkbox\" ><label for=\"sk-estimator-id-2\" class=\"sk-toggleable__label sk-toggleable__label-arrow\">StandardScaler</label><div class=\"sk-toggleable__content\"><pre>StandardScaler()</pre></div></div></div><div class=\"sk-item\"><div class=\"sk-estimator sk-toggleable\"><input class=\"sk-toggleable__control sk-hidden--visually\" id=\"sk-estimator-id-3\" type=\"checkbox\" ><label for=\"sk-estimator-id-3\" class=\"sk-toggleable__label sk-toggleable__label-arrow\">PCA</label><div class=\"sk-toggleable__content\"><pre>PCA(n_components=18)</pre></div></div></div><div class=\"sk-item\"><div class=\"sk-estimator sk-toggleable\"><input class=\"sk-toggleable__control sk-hidden--visually\" id=\"sk-estimator-id-4\" type=\"checkbox\" ><label for=\"sk-estimator-id-4\" class=\"sk-toggleable__label sk-toggleable__label-arrow\">SVC</label><div class=\"sk-toggleable__content\"><pre>SVC(random_state=42)</pre></div></div></div></div></div></div></div>"
      ],
      "text/plain": [
       "Pipeline(steps=[('scaler', StandardScaler()), ('pca', PCA(n_components=18)),\n",
       "                ('SVC', SVC(random_state=42))])"
      ]
     },
     "execution_count": 32,
     "metadata": {},
     "output_type": "execute_result"
    }
   ],
   "source": [
    "pipe.fit(X_train,y_train)"
   ]
  },
  {
   "cell_type": "code",
   "execution_count": 33,
   "id": "0eb7e292",
   "metadata": {},
   "outputs": [],
   "source": [
    "y_pred = pipe.predict(X_val)"
   ]
  },
  {
   "cell_type": "code",
   "execution_count": 34,
   "id": "c7e5a118",
   "metadata": {},
   "outputs": [
    {
     "data": {
      "text/plain": [
       "0.8879310344827587"
      ]
     },
     "execution_count": 34,
     "metadata": {},
     "output_type": "execute_result"
    }
   ],
   "source": [
    "accuracy_score(y_val,y_pred)"
   ]
  },
  {
   "cell_type": "code",
   "execution_count": 35,
   "id": "129dda8d",
   "metadata": {},
   "outputs": [],
   "source": [
    "pipe = Pipeline([('scaler',StandardScaler()),('pca',PCA(n_components=18)),('log',LogisticRegression())])"
   ]
  },
  {
   "cell_type": "code",
   "execution_count": 36,
   "id": "346600eb",
   "metadata": {},
   "outputs": [
    {
     "data": {
      "text/html": [
       "<style>#sk-container-id-2 {color: black;background-color: white;}#sk-container-id-2 pre{padding: 0;}#sk-container-id-2 div.sk-toggleable {background-color: white;}#sk-container-id-2 label.sk-toggleable__label {cursor: pointer;display: block;width: 100%;margin-bottom: 0;padding: 0.3em;box-sizing: border-box;text-align: center;}#sk-container-id-2 label.sk-toggleable__label-arrow:before {content: \"▸\";float: left;margin-right: 0.25em;color: #696969;}#sk-container-id-2 label.sk-toggleable__label-arrow:hover:before {color: black;}#sk-container-id-2 div.sk-estimator:hover label.sk-toggleable__label-arrow:before {color: black;}#sk-container-id-2 div.sk-toggleable__content {max-height: 0;max-width: 0;overflow: hidden;text-align: left;background-color: #f0f8ff;}#sk-container-id-2 div.sk-toggleable__content pre {margin: 0.2em;color: black;border-radius: 0.25em;background-color: #f0f8ff;}#sk-container-id-2 input.sk-toggleable__control:checked~div.sk-toggleable__content {max-height: 200px;max-width: 100%;overflow: auto;}#sk-container-id-2 input.sk-toggleable__control:checked~label.sk-toggleable__label-arrow:before {content: \"▾\";}#sk-container-id-2 div.sk-estimator input.sk-toggleable__control:checked~label.sk-toggleable__label {background-color: #d4ebff;}#sk-container-id-2 div.sk-label input.sk-toggleable__control:checked~label.sk-toggleable__label {background-color: #d4ebff;}#sk-container-id-2 input.sk-hidden--visually {border: 0;clip: rect(1px 1px 1px 1px);clip: rect(1px, 1px, 1px, 1px);height: 1px;margin: -1px;overflow: hidden;padding: 0;position: absolute;width: 1px;}#sk-container-id-2 div.sk-estimator {font-family: monospace;background-color: #f0f8ff;border: 1px dotted black;border-radius: 0.25em;box-sizing: border-box;margin-bottom: 0.5em;}#sk-container-id-2 div.sk-estimator:hover {background-color: #d4ebff;}#sk-container-id-2 div.sk-parallel-item::after {content: \"\";width: 100%;border-bottom: 1px solid gray;flex-grow: 1;}#sk-container-id-2 div.sk-label:hover label.sk-toggleable__label {background-color: #d4ebff;}#sk-container-id-2 div.sk-serial::before {content: \"\";position: absolute;border-left: 1px solid gray;box-sizing: border-box;top: 0;bottom: 0;left: 50%;z-index: 0;}#sk-container-id-2 div.sk-serial {display: flex;flex-direction: column;align-items: center;background-color: white;padding-right: 0.2em;padding-left: 0.2em;position: relative;}#sk-container-id-2 div.sk-item {position: relative;z-index: 1;}#sk-container-id-2 div.sk-parallel {display: flex;align-items: stretch;justify-content: center;background-color: white;position: relative;}#sk-container-id-2 div.sk-item::before, #sk-container-id-2 div.sk-parallel-item::before {content: \"\";position: absolute;border-left: 1px solid gray;box-sizing: border-box;top: 0;bottom: 0;left: 50%;z-index: -1;}#sk-container-id-2 div.sk-parallel-item {display: flex;flex-direction: column;z-index: 1;position: relative;background-color: white;}#sk-container-id-2 div.sk-parallel-item:first-child::after {align-self: flex-end;width: 50%;}#sk-container-id-2 div.sk-parallel-item:last-child::after {align-self: flex-start;width: 50%;}#sk-container-id-2 div.sk-parallel-item:only-child::after {width: 0;}#sk-container-id-2 div.sk-dashed-wrapped {border: 1px dashed gray;margin: 0 0.4em 0.5em 0.4em;box-sizing: border-box;padding-bottom: 0.4em;background-color: white;}#sk-container-id-2 div.sk-label label {font-family: monospace;font-weight: bold;display: inline-block;line-height: 1.2em;}#sk-container-id-2 div.sk-label-container {text-align: center;}#sk-container-id-2 div.sk-container {/* jupyter's `normalize.less` sets `[hidden] { display: none; }` but bootstrap.min.css set `[hidden] { display: none !important; }` so we also need the `!important` here to be able to override the default hidden behavior on the sphinx rendered scikit-learn.org. See: https://github.com/scikit-learn/scikit-learn/issues/21755 */display: inline-block !important;position: relative;}#sk-container-id-2 div.sk-text-repr-fallback {display: none;}</style><div id=\"sk-container-id-2\" class=\"sk-top-container\"><div class=\"sk-text-repr-fallback\"><pre>Pipeline(steps=[(&#x27;scaler&#x27;, StandardScaler()), (&#x27;pca&#x27;, PCA(n_components=18)),\n",
       "                (&#x27;log&#x27;, LogisticRegression())])</pre><b>In a Jupyter environment, please rerun this cell to show the HTML representation or trust the notebook. <br />On GitHub, the HTML representation is unable to render, please try loading this page with nbviewer.org.</b></div><div class=\"sk-container\" hidden><div class=\"sk-item sk-dashed-wrapped\"><div class=\"sk-label-container\"><div class=\"sk-label sk-toggleable\"><input class=\"sk-toggleable__control sk-hidden--visually\" id=\"sk-estimator-id-5\" type=\"checkbox\" ><label for=\"sk-estimator-id-5\" class=\"sk-toggleable__label sk-toggleable__label-arrow\">Pipeline</label><div class=\"sk-toggleable__content\"><pre>Pipeline(steps=[(&#x27;scaler&#x27;, StandardScaler()), (&#x27;pca&#x27;, PCA(n_components=18)),\n",
       "                (&#x27;log&#x27;, LogisticRegression())])</pre></div></div></div><div class=\"sk-serial\"><div class=\"sk-item\"><div class=\"sk-estimator sk-toggleable\"><input class=\"sk-toggleable__control sk-hidden--visually\" id=\"sk-estimator-id-6\" type=\"checkbox\" ><label for=\"sk-estimator-id-6\" class=\"sk-toggleable__label sk-toggleable__label-arrow\">StandardScaler</label><div class=\"sk-toggleable__content\"><pre>StandardScaler()</pre></div></div></div><div class=\"sk-item\"><div class=\"sk-estimator sk-toggleable\"><input class=\"sk-toggleable__control sk-hidden--visually\" id=\"sk-estimator-id-7\" type=\"checkbox\" ><label for=\"sk-estimator-id-7\" class=\"sk-toggleable__label sk-toggleable__label-arrow\">PCA</label><div class=\"sk-toggleable__content\"><pre>PCA(n_components=18)</pre></div></div></div><div class=\"sk-item\"><div class=\"sk-estimator sk-toggleable\"><input class=\"sk-toggleable__control sk-hidden--visually\" id=\"sk-estimator-id-8\" type=\"checkbox\" ><label for=\"sk-estimator-id-8\" class=\"sk-toggleable__label sk-toggleable__label-arrow\">LogisticRegression</label><div class=\"sk-toggleable__content\"><pre>LogisticRegression()</pre></div></div></div></div></div></div></div>"
      ],
      "text/plain": [
       "Pipeline(steps=[('scaler', StandardScaler()), ('pca', PCA(n_components=18)),\n",
       "                ('log', LogisticRegression())])"
      ]
     },
     "execution_count": 36,
     "metadata": {},
     "output_type": "execute_result"
    }
   ],
   "source": [
    "pipe.fit(X_train,y_train)"
   ]
  },
  {
   "cell_type": "code",
   "execution_count": 37,
   "id": "c77d19f0",
   "metadata": {},
   "outputs": [],
   "source": [
    "y_pred = pipe.predict(X_val)"
   ]
  },
  {
   "cell_type": "code",
   "execution_count": 38,
   "id": "d3012618",
   "metadata": {},
   "outputs": [
    {
     "data": {
      "text/plain": [
       "0.8850574712643678"
      ]
     },
     "execution_count": 38,
     "metadata": {},
     "output_type": "execute_result"
    }
   ],
   "source": [
    "accuracy_score(y_val,y_pred)"
   ]
  },
  {
   "cell_type": "code",
   "execution_count": 39,
   "id": "756667b3",
   "metadata": {},
   "outputs": [
    {
     "data": {
      "text/html": [
       "<style>#sk-container-id-3 {color: black;background-color: white;}#sk-container-id-3 pre{padding: 0;}#sk-container-id-3 div.sk-toggleable {background-color: white;}#sk-container-id-3 label.sk-toggleable__label {cursor: pointer;display: block;width: 100%;margin-bottom: 0;padding: 0.3em;box-sizing: border-box;text-align: center;}#sk-container-id-3 label.sk-toggleable__label-arrow:before {content: \"▸\";float: left;margin-right: 0.25em;color: #696969;}#sk-container-id-3 label.sk-toggleable__label-arrow:hover:before {color: black;}#sk-container-id-3 div.sk-estimator:hover label.sk-toggleable__label-arrow:before {color: black;}#sk-container-id-3 div.sk-toggleable__content {max-height: 0;max-width: 0;overflow: hidden;text-align: left;background-color: #f0f8ff;}#sk-container-id-3 div.sk-toggleable__content pre {margin: 0.2em;color: black;border-radius: 0.25em;background-color: #f0f8ff;}#sk-container-id-3 input.sk-toggleable__control:checked~div.sk-toggleable__content {max-height: 200px;max-width: 100%;overflow: auto;}#sk-container-id-3 input.sk-toggleable__control:checked~label.sk-toggleable__label-arrow:before {content: \"▾\";}#sk-container-id-3 div.sk-estimator input.sk-toggleable__control:checked~label.sk-toggleable__label {background-color: #d4ebff;}#sk-container-id-3 div.sk-label input.sk-toggleable__control:checked~label.sk-toggleable__label {background-color: #d4ebff;}#sk-container-id-3 input.sk-hidden--visually {border: 0;clip: rect(1px 1px 1px 1px);clip: rect(1px, 1px, 1px, 1px);height: 1px;margin: -1px;overflow: hidden;padding: 0;position: absolute;width: 1px;}#sk-container-id-3 div.sk-estimator {font-family: monospace;background-color: #f0f8ff;border: 1px dotted black;border-radius: 0.25em;box-sizing: border-box;margin-bottom: 0.5em;}#sk-container-id-3 div.sk-estimator:hover {background-color: #d4ebff;}#sk-container-id-3 div.sk-parallel-item::after {content: \"\";width: 100%;border-bottom: 1px solid gray;flex-grow: 1;}#sk-container-id-3 div.sk-label:hover label.sk-toggleable__label {background-color: #d4ebff;}#sk-container-id-3 div.sk-serial::before {content: \"\";position: absolute;border-left: 1px solid gray;box-sizing: border-box;top: 0;bottom: 0;left: 50%;z-index: 0;}#sk-container-id-3 div.sk-serial {display: flex;flex-direction: column;align-items: center;background-color: white;padding-right: 0.2em;padding-left: 0.2em;position: relative;}#sk-container-id-3 div.sk-item {position: relative;z-index: 1;}#sk-container-id-3 div.sk-parallel {display: flex;align-items: stretch;justify-content: center;background-color: white;position: relative;}#sk-container-id-3 div.sk-item::before, #sk-container-id-3 div.sk-parallel-item::before {content: \"\";position: absolute;border-left: 1px solid gray;box-sizing: border-box;top: 0;bottom: 0;left: 50%;z-index: -1;}#sk-container-id-3 div.sk-parallel-item {display: flex;flex-direction: column;z-index: 1;position: relative;background-color: white;}#sk-container-id-3 div.sk-parallel-item:first-child::after {align-self: flex-end;width: 50%;}#sk-container-id-3 div.sk-parallel-item:last-child::after {align-self: flex-start;width: 50%;}#sk-container-id-3 div.sk-parallel-item:only-child::after {width: 0;}#sk-container-id-3 div.sk-dashed-wrapped {border: 1px dashed gray;margin: 0 0.4em 0.5em 0.4em;box-sizing: border-box;padding-bottom: 0.4em;background-color: white;}#sk-container-id-3 div.sk-label label {font-family: monospace;font-weight: bold;display: inline-block;line-height: 1.2em;}#sk-container-id-3 div.sk-label-container {text-align: center;}#sk-container-id-3 div.sk-container {/* jupyter's `normalize.less` sets `[hidden] { display: none; }` but bootstrap.min.css set `[hidden] { display: none !important; }` so we also need the `!important` here to be able to override the default hidden behavior on the sphinx rendered scikit-learn.org. See: https://github.com/scikit-learn/scikit-learn/issues/21755 */display: inline-block !important;position: relative;}#sk-container-id-3 div.sk-text-repr-fallback {display: none;}</style><div id=\"sk-container-id-3\" class=\"sk-top-container\"><div class=\"sk-text-repr-fallback\"><pre>Pipeline(steps=[(&#x27;scaler&#x27;, StandardScaler()), (&#x27;pca&#x27;, PCA(n_components=18)),\n",
       "                (&#x27;poly&#x27;, PolynomialFeatures()),\n",
       "                (&#x27;log&#x27;, LogisticRegression(max_iter=5000, solver=&#x27;saga&#x27;))])</pre><b>In a Jupyter environment, please rerun this cell to show the HTML representation or trust the notebook. <br />On GitHub, the HTML representation is unable to render, please try loading this page with nbviewer.org.</b></div><div class=\"sk-container\" hidden><div class=\"sk-item sk-dashed-wrapped\"><div class=\"sk-label-container\"><div class=\"sk-label sk-toggleable\"><input class=\"sk-toggleable__control sk-hidden--visually\" id=\"sk-estimator-id-9\" type=\"checkbox\" ><label for=\"sk-estimator-id-9\" class=\"sk-toggleable__label sk-toggleable__label-arrow\">Pipeline</label><div class=\"sk-toggleable__content\"><pre>Pipeline(steps=[(&#x27;scaler&#x27;, StandardScaler()), (&#x27;pca&#x27;, PCA(n_components=18)),\n",
       "                (&#x27;poly&#x27;, PolynomialFeatures()),\n",
       "                (&#x27;log&#x27;, LogisticRegression(max_iter=5000, solver=&#x27;saga&#x27;))])</pre></div></div></div><div class=\"sk-serial\"><div class=\"sk-item\"><div class=\"sk-estimator sk-toggleable\"><input class=\"sk-toggleable__control sk-hidden--visually\" id=\"sk-estimator-id-10\" type=\"checkbox\" ><label for=\"sk-estimator-id-10\" class=\"sk-toggleable__label sk-toggleable__label-arrow\">StandardScaler</label><div class=\"sk-toggleable__content\"><pre>StandardScaler()</pre></div></div></div><div class=\"sk-item\"><div class=\"sk-estimator sk-toggleable\"><input class=\"sk-toggleable__control sk-hidden--visually\" id=\"sk-estimator-id-11\" type=\"checkbox\" ><label for=\"sk-estimator-id-11\" class=\"sk-toggleable__label sk-toggleable__label-arrow\">PCA</label><div class=\"sk-toggleable__content\"><pre>PCA(n_components=18)</pre></div></div></div><div class=\"sk-item\"><div class=\"sk-estimator sk-toggleable\"><input class=\"sk-toggleable__control sk-hidden--visually\" id=\"sk-estimator-id-12\" type=\"checkbox\" ><label for=\"sk-estimator-id-12\" class=\"sk-toggleable__label sk-toggleable__label-arrow\">PolynomialFeatures</label><div class=\"sk-toggleable__content\"><pre>PolynomialFeatures()</pre></div></div></div><div class=\"sk-item\"><div class=\"sk-estimator sk-toggleable\"><input class=\"sk-toggleable__control sk-hidden--visually\" id=\"sk-estimator-id-13\" type=\"checkbox\" ><label for=\"sk-estimator-id-13\" class=\"sk-toggleable__label sk-toggleable__label-arrow\">LogisticRegression</label><div class=\"sk-toggleable__content\"><pre>LogisticRegression(max_iter=5000, solver=&#x27;saga&#x27;)</pre></div></div></div></div></div></div></div>"
      ],
      "text/plain": [
       "Pipeline(steps=[('scaler', StandardScaler()), ('pca', PCA(n_components=18)),\n",
       "                ('poly', PolynomialFeatures()),\n",
       "                ('log', LogisticRegression(max_iter=5000, solver='saga'))])"
      ]
     },
     "execution_count": 39,
     "metadata": {},
     "output_type": "execute_result"
    }
   ],
   "source": [
    "pipe = Pipeline([('scaler',StandardScaler()),('pca',PCA(n_components=18)),('poly',PolynomialFeatures(2)),('log',LogisticRegression(solver='saga',max_iter=5000))])\n",
    "pipe.fit(X_train,y_train)"
   ]
  },
  {
   "cell_type": "code",
   "execution_count": 40,
   "id": "c25602bd",
   "metadata": {},
   "outputs": [
    {
     "data": {
      "text/plain": [
       "0.8304597701149425"
      ]
     },
     "execution_count": 40,
     "metadata": {},
     "output_type": "execute_result"
    }
   ],
   "source": [
    "y_pred = pipe.predict(X_val)\n",
    "accuracy_score(y_val,y_pred)"
   ]
  },
  {
   "cell_type": "code",
   "execution_count": 41,
   "id": "060634cf",
   "metadata": {},
   "outputs": [],
   "source": [
    "pipeline = Pipeline([('scaler',StandardScaler()),('pca',PCA(n_components=18)),('RF',RandomForestClassifier(max_depth=2, random_state=0))])"
   ]
  },
  {
   "cell_type": "code",
   "execution_count": 42,
   "id": "f0bbd5dc",
   "metadata": {},
   "outputs": [
    {
     "data": {
      "text/html": [
       "<style>#sk-container-id-4 {color: black;background-color: white;}#sk-container-id-4 pre{padding: 0;}#sk-container-id-4 div.sk-toggleable {background-color: white;}#sk-container-id-4 label.sk-toggleable__label {cursor: pointer;display: block;width: 100%;margin-bottom: 0;padding: 0.3em;box-sizing: border-box;text-align: center;}#sk-container-id-4 label.sk-toggleable__label-arrow:before {content: \"▸\";float: left;margin-right: 0.25em;color: #696969;}#sk-container-id-4 label.sk-toggleable__label-arrow:hover:before {color: black;}#sk-container-id-4 div.sk-estimator:hover label.sk-toggleable__label-arrow:before {color: black;}#sk-container-id-4 div.sk-toggleable__content {max-height: 0;max-width: 0;overflow: hidden;text-align: left;background-color: #f0f8ff;}#sk-container-id-4 div.sk-toggleable__content pre {margin: 0.2em;color: black;border-radius: 0.25em;background-color: #f0f8ff;}#sk-container-id-4 input.sk-toggleable__control:checked~div.sk-toggleable__content {max-height: 200px;max-width: 100%;overflow: auto;}#sk-container-id-4 input.sk-toggleable__control:checked~label.sk-toggleable__label-arrow:before {content: \"▾\";}#sk-container-id-4 div.sk-estimator input.sk-toggleable__control:checked~label.sk-toggleable__label {background-color: #d4ebff;}#sk-container-id-4 div.sk-label input.sk-toggleable__control:checked~label.sk-toggleable__label {background-color: #d4ebff;}#sk-container-id-4 input.sk-hidden--visually {border: 0;clip: rect(1px 1px 1px 1px);clip: rect(1px, 1px, 1px, 1px);height: 1px;margin: -1px;overflow: hidden;padding: 0;position: absolute;width: 1px;}#sk-container-id-4 div.sk-estimator {font-family: monospace;background-color: #f0f8ff;border: 1px dotted black;border-radius: 0.25em;box-sizing: border-box;margin-bottom: 0.5em;}#sk-container-id-4 div.sk-estimator:hover {background-color: #d4ebff;}#sk-container-id-4 div.sk-parallel-item::after {content: \"\";width: 100%;border-bottom: 1px solid gray;flex-grow: 1;}#sk-container-id-4 div.sk-label:hover label.sk-toggleable__label {background-color: #d4ebff;}#sk-container-id-4 div.sk-serial::before {content: \"\";position: absolute;border-left: 1px solid gray;box-sizing: border-box;top: 0;bottom: 0;left: 50%;z-index: 0;}#sk-container-id-4 div.sk-serial {display: flex;flex-direction: column;align-items: center;background-color: white;padding-right: 0.2em;padding-left: 0.2em;position: relative;}#sk-container-id-4 div.sk-item {position: relative;z-index: 1;}#sk-container-id-4 div.sk-parallel {display: flex;align-items: stretch;justify-content: center;background-color: white;position: relative;}#sk-container-id-4 div.sk-item::before, #sk-container-id-4 div.sk-parallel-item::before {content: \"\";position: absolute;border-left: 1px solid gray;box-sizing: border-box;top: 0;bottom: 0;left: 50%;z-index: -1;}#sk-container-id-4 div.sk-parallel-item {display: flex;flex-direction: column;z-index: 1;position: relative;background-color: white;}#sk-container-id-4 div.sk-parallel-item:first-child::after {align-self: flex-end;width: 50%;}#sk-container-id-4 div.sk-parallel-item:last-child::after {align-self: flex-start;width: 50%;}#sk-container-id-4 div.sk-parallel-item:only-child::after {width: 0;}#sk-container-id-4 div.sk-dashed-wrapped {border: 1px dashed gray;margin: 0 0.4em 0.5em 0.4em;box-sizing: border-box;padding-bottom: 0.4em;background-color: white;}#sk-container-id-4 div.sk-label label {font-family: monospace;font-weight: bold;display: inline-block;line-height: 1.2em;}#sk-container-id-4 div.sk-label-container {text-align: center;}#sk-container-id-4 div.sk-container {/* jupyter's `normalize.less` sets `[hidden] { display: none; }` but bootstrap.min.css set `[hidden] { display: none !important; }` so we also need the `!important` here to be able to override the default hidden behavior on the sphinx rendered scikit-learn.org. See: https://github.com/scikit-learn/scikit-learn/issues/21755 */display: inline-block !important;position: relative;}#sk-container-id-4 div.sk-text-repr-fallback {display: none;}</style><div id=\"sk-container-id-4\" class=\"sk-top-container\"><div class=\"sk-text-repr-fallback\"><pre>Pipeline(steps=[(&#x27;scaler&#x27;, StandardScaler()), (&#x27;pca&#x27;, PCA(n_components=18)),\n",
       "                (&#x27;RF&#x27;, RandomForestClassifier(max_depth=2, random_state=0))])</pre><b>In a Jupyter environment, please rerun this cell to show the HTML representation or trust the notebook. <br />On GitHub, the HTML representation is unable to render, please try loading this page with nbviewer.org.</b></div><div class=\"sk-container\" hidden><div class=\"sk-item sk-dashed-wrapped\"><div class=\"sk-label-container\"><div class=\"sk-label sk-toggleable\"><input class=\"sk-toggleable__control sk-hidden--visually\" id=\"sk-estimator-id-14\" type=\"checkbox\" ><label for=\"sk-estimator-id-14\" class=\"sk-toggleable__label sk-toggleable__label-arrow\">Pipeline</label><div class=\"sk-toggleable__content\"><pre>Pipeline(steps=[(&#x27;scaler&#x27;, StandardScaler()), (&#x27;pca&#x27;, PCA(n_components=18)),\n",
       "                (&#x27;RF&#x27;, RandomForestClassifier(max_depth=2, random_state=0))])</pre></div></div></div><div class=\"sk-serial\"><div class=\"sk-item\"><div class=\"sk-estimator sk-toggleable\"><input class=\"sk-toggleable__control sk-hidden--visually\" id=\"sk-estimator-id-15\" type=\"checkbox\" ><label for=\"sk-estimator-id-15\" class=\"sk-toggleable__label sk-toggleable__label-arrow\">StandardScaler</label><div class=\"sk-toggleable__content\"><pre>StandardScaler()</pre></div></div></div><div class=\"sk-item\"><div class=\"sk-estimator sk-toggleable\"><input class=\"sk-toggleable__control sk-hidden--visually\" id=\"sk-estimator-id-16\" type=\"checkbox\" ><label for=\"sk-estimator-id-16\" class=\"sk-toggleable__label sk-toggleable__label-arrow\">PCA</label><div class=\"sk-toggleable__content\"><pre>PCA(n_components=18)</pre></div></div></div><div class=\"sk-item\"><div class=\"sk-estimator sk-toggleable\"><input class=\"sk-toggleable__control sk-hidden--visually\" id=\"sk-estimator-id-17\" type=\"checkbox\" ><label for=\"sk-estimator-id-17\" class=\"sk-toggleable__label sk-toggleable__label-arrow\">RandomForestClassifier</label><div class=\"sk-toggleable__content\"><pre>RandomForestClassifier(max_depth=2, random_state=0)</pre></div></div></div></div></div></div></div>"
      ],
      "text/plain": [
       "Pipeline(steps=[('scaler', StandardScaler()), ('pca', PCA(n_components=18)),\n",
       "                ('RF', RandomForestClassifier(max_depth=2, random_state=0))])"
      ]
     },
     "execution_count": 42,
     "metadata": {},
     "output_type": "execute_result"
    }
   ],
   "source": [
    "pipeline.fit(X_train,y_train)"
   ]
  },
  {
   "cell_type": "code",
   "execution_count": 43,
   "id": "d0d4f514",
   "metadata": {},
   "outputs": [],
   "source": [
    "y_pred = pipeline.predict(X_val)"
   ]
  },
  {
   "cell_type": "code",
   "execution_count": 44,
   "id": "c3d8467b",
   "metadata": {},
   "outputs": [
    {
     "data": {
      "text/plain": [
       "0.8850574712643678"
      ]
     },
     "execution_count": 44,
     "metadata": {},
     "output_type": "execute_result"
    }
   ],
   "source": [
    "accuracy_score(y_val,y_pred)"
   ]
  },
  {
   "cell_type": "code",
   "execution_count": 45,
   "id": "a7fda133",
   "metadata": {},
   "outputs": [],
   "source": [
    "sum_e = y_train.sum()/len(y_train)\n",
    "sum_ne= 1-sum_e"
   ]
  },
  {
   "cell_type": "code",
   "execution_count": 46,
   "id": "1b04f3fb",
   "metadata": {},
   "outputs": [],
   "source": [
    "def prob_bin(y,pe,pne):\n",
    "    y_prods = np.where(y==1,pe,pne)\n",
    "    return y_prods"
   ]
  },
  {
   "cell_type": "code",
   "execution_count": 47,
   "id": "750cfc36",
   "metadata": {},
   "outputs": [],
   "source": [
    "def prob_b(y,pe,pne):\n",
    "    y_prods = np.where(y!=3,pe,pne)\n",
    "    return y_prods"
   ]
  },
  {
   "cell_type": "code",
   "execution_count": 99,
   "id": "830a8bd4",
   "metadata": {},
   "outputs": [],
   "source": [
    "def perplexity_mult(X_tr, y_tr, X_te, y_te,m):\n",
    "    m = m.fit(X_tr, y_tr)\n",
    "    y_pred = m.predict(X_te)\n",
    "    y_pred_bin = (y_pred != 3).astype(int)\n",
    "    try:\n",
    "        y_probs = pipe.predict_proba(X_te)\n",
    "        y_probs = y_probs[:,0:3].sum(axis=1)\n",
    "    except e:\n",
    "        y_prods = prob_b(y_pred_bin,sum_e,sum_ne)\n",
    "    return np.exp(-np.mean(np.log(y_pred_bin*y_probs + (1 - y_pred_bin) * (1 - y_probs))))"
   ]
  },
  {
   "cell_type": "code",
   "execution_count": 49,
   "id": "aa653dbc",
   "metadata": {},
   "outputs": [],
   "source": [
    "def perplexity_bin(X_tr, y_tr, X_te, y_te,m):\n",
    "    m = m.fit(X_tr, y_tr)\n",
    "    y_pred = m.predict(X_te)\n",
    "    try:\n",
    "        y_probs = pipe.predict_proba(X_te)[:,1]\n",
    "    except e:\n",
    "        y_prods = prob_bin(y_pred,sum_e,sum_ne)\n",
    "    return np.exp(-np.mean(np.log(y_pred*y_probs + (1 - y_pred) * (1 - y_probs))))"
   ]
  },
  {
   "cell_type": "code",
   "execution_count": 50,
   "id": "e261ab82",
   "metadata": {},
   "outputs": [],
   "source": [
    "def loss(X_tr, y_tr, X_te, y_te, m):\n",
    "    return mean_squared_error(y_te, m.fit(X_tr, y_tr).predict(X_te), squared=False)"
   ]
  },
  {
   "cell_type": "code",
   "execution_count": 51,
   "id": "a0d35da6",
   "metadata": {},
   "outputs": [],
   "source": [
    "def acc_m(X_tr, y_tr, X_te, y_te, m):\n",
    "    return accuracy_score(y_te, m.fit(X_tr, y_tr).predict(X_te))"
   ]
  },
  {
   "cell_type": "code",
   "execution_count": 52,
   "id": "f188cc32",
   "metadata": {},
   "outputs": [],
   "source": [
    "# All requested models are implemented by sklearn, luckily\n",
    "models = [GaussianNB(),\n",
    "          Pipeline([('scaler',StandardScaler()),('pca',PCA(n_components=18)),('NB',GaussianNB())]),\n",
    "          Pipeline([('scaler',StandardScaler()),('pca',PCA(n_components=18)),('log',LogisticRegression(solver='saga',max_iter=5000))]),\n",
    "          Pipeline([('scaler',StandardScaler()),('pca',PCA(n_components=18)),('svc',SVC(random_state=42,probability=True,C = 1,class_weight = None,gamma='scale',kernel='rbf',decision_function_shape = 'ovo'))]),\n",
    "          Pipeline([('scaler',StandardScaler()),('pca',PCA(n_components=18)),('RF',RandomForestClassifier(max_depth=2, random_state=0))])]\n",
    "# It is a good idea to collect the results in a data frame, one row for a regressor.\n",
    "res_bin = pd.DataFrame(index=[\"NB_alone\",\"NB\",\"Log\", \"SVR\", \"RF\"])"
   ]
  },
  {
   "cell_type": "code",
   "execution_count": 53,
   "id": "7f21a867",
   "metadata": {},
   "outputs": [],
   "source": [
    "# Loss on training data, for model trained on training data:\n",
    "res_bin[\"loss_train\"] = [loss(X_train,y_train, X_train,y_train, m) for m in models]\n",
    "# Los on test data, for model trained on training data:\n",
    "res_bin[\"loss_val\"] = [loss(X_train,y_train, X_val, y_val, m) for m in models]\n",
    "\n",
    "res_bin[\"acc_val\"] = [acc_m(X_train,y_train, X_val, y_val, m) for m in models]\n",
    "\n",
    "res_bin[\"perp_bin\"] = [perplexity_bin(X_train,y_train, X_val, y_val, m) for m in models]\n",
    "# Cross-validation loss:\n",
    "cv = StratifiedKFold(n_splits=5)\n",
    "res_bin[\"cv\"] = [\n",
    "    -cross_val_score(\n",
    "        m, X_train_copy,y_train_copy, cv=cv, scoring=\"neg_root_mean_squared_error\"\n",
    "    ).mean()\n",
    "    for m in models\n",
    "]"
   ]
  },
  {
   "cell_type": "code",
   "execution_count": 54,
   "id": "1dfe280e",
   "metadata": {},
   "outputs": [
    {
     "data": {
      "text/html": [
       "<div>\n",
       "<style scoped>\n",
       "    .dataframe tbody tr th:only-of-type {\n",
       "        vertical-align: middle;\n",
       "    }\n",
       "\n",
       "    .dataframe tbody tr th {\n",
       "        vertical-align: top;\n",
       "    }\n",
       "\n",
       "    .dataframe thead th {\n",
       "        text-align: right;\n",
       "    }\n",
       "</style>\n",
       "<table border=\"1\" class=\"dataframe\">\n",
       "  <thead>\n",
       "    <tr style=\"text-align: right;\">\n",
       "      <th></th>\n",
       "      <th>loss_train</th>\n",
       "      <th>loss_val</th>\n",
       "      <th>acc_val</th>\n",
       "      <th>perp_bin</th>\n",
       "      <th>cv</th>\n",
       "    </tr>\n",
       "  </thead>\n",
       "  <tbody>\n",
       "    <tr>\n",
       "      <th>NB_alone</th>\n",
       "      <td>0.393919</td>\n",
       "      <td>0.386556</td>\n",
       "      <td>0.850575</td>\n",
       "      <td>1.644902</td>\n",
       "      <td>0.419179</td>\n",
       "    </tr>\n",
       "    <tr>\n",
       "      <th>NB</th>\n",
       "      <td>0.334767</td>\n",
       "      <td>0.428845</td>\n",
       "      <td>0.816092</td>\n",
       "      <td>1.869961</td>\n",
       "      <td>0.444872</td>\n",
       "    </tr>\n",
       "    <tr>\n",
       "      <th>Log</th>\n",
       "      <td>0.321634</td>\n",
       "      <td>0.339032</td>\n",
       "      <td>0.885057</td>\n",
       "      <td>1.493934</td>\n",
       "      <td>0.353485</td>\n",
       "    </tr>\n",
       "    <tr>\n",
       "      <th>SVR</th>\n",
       "      <td>0.334767</td>\n",
       "      <td>0.334767</td>\n",
       "      <td>0.887931</td>\n",
       "      <td>1.444701</td>\n",
       "      <td>0.356427</td>\n",
       "    </tr>\n",
       "    <tr>\n",
       "      <th>RF</th>\n",
       "      <td>0.160817</td>\n",
       "      <td>0.339032</td>\n",
       "      <td>0.885057</td>\n",
       "      <td>1.560235</td>\n",
       "      <td>0.377264</td>\n",
       "    </tr>\n",
       "  </tbody>\n",
       "</table>\n",
       "</div>"
      ],
      "text/plain": [
       "          loss_train  loss_val   acc_val  perp_bin        cv\n",
       "NB_alone    0.393919  0.386556  0.850575  1.644902  0.419179\n",
       "NB          0.334767  0.428845  0.816092  1.869961  0.444872\n",
       "Log         0.321634  0.339032  0.885057  1.493934  0.353485\n",
       "SVR         0.334767  0.334767  0.887931  1.444701  0.356427\n",
       "RF          0.160817  0.339032  0.885057  1.560235  0.377264"
      ]
     },
     "execution_count": 54,
     "metadata": {},
     "output_type": "execute_result"
    }
   ],
   "source": [
    "res_bin"
   ]
  },
  {
   "cell_type": "markdown",
   "id": "681f1f12",
   "metadata": {},
   "source": [
    "## Grid Search\n",
    "\n",
    "The truth is that this did not improve the models, the best model found gives the same accuracy that we got before."
   ]
  },
  {
   "cell_type": "code",
   "execution_count": 55,
   "id": "63b905d6",
   "metadata": {},
   "outputs": [],
   "source": [
    "scaler = StandardScaler()\n",
    "X_train = scaler.fit_transform(X_train)\n",
    "X_val = scaler.transform(X_val)"
   ]
  },
  {
   "cell_type": "code",
   "execution_count": 56,
   "id": "4e0d2414",
   "metadata": {},
   "outputs": [],
   "source": [
    "pca = PCA(n_components=18)\n",
    "X_train_pca = pca.fit_transform(X_train)\n",
    "X_val_pca = pca.transform(X_val)"
   ]
  },
  {
   "cell_type": "code",
   "execution_count": 57,
   "id": "4478667d",
   "metadata": {},
   "outputs": [],
   "source": [
    "parameters = {'n_estimators':[10,70,100,150], 'min_samples_leaf':[1, 2,3],\n",
    "              'min_samples_split':[2,3,4],\n",
    "              'max_features':['sqrt','log2',None]}\n",
    "rf = RandomForestClassifier(max_depth=2, random_state=0,n_jobs=-1)"
   ]
  },
  {
   "cell_type": "code",
   "execution_count": 58,
   "id": "cc86bd1f",
   "metadata": {},
   "outputs": [],
   "source": [
    "clf = GridSearchCV(rf, parameters)"
   ]
  },
  {
   "cell_type": "code",
   "execution_count": 59,
   "id": "98f53e8f",
   "metadata": {},
   "outputs": [
    {
     "data": {
      "text/html": [
       "<style>#sk-container-id-5 {color: black;background-color: white;}#sk-container-id-5 pre{padding: 0;}#sk-container-id-5 div.sk-toggleable {background-color: white;}#sk-container-id-5 label.sk-toggleable__label {cursor: pointer;display: block;width: 100%;margin-bottom: 0;padding: 0.3em;box-sizing: border-box;text-align: center;}#sk-container-id-5 label.sk-toggleable__label-arrow:before {content: \"▸\";float: left;margin-right: 0.25em;color: #696969;}#sk-container-id-5 label.sk-toggleable__label-arrow:hover:before {color: black;}#sk-container-id-5 div.sk-estimator:hover label.sk-toggleable__label-arrow:before {color: black;}#sk-container-id-5 div.sk-toggleable__content {max-height: 0;max-width: 0;overflow: hidden;text-align: left;background-color: #f0f8ff;}#sk-container-id-5 div.sk-toggleable__content pre {margin: 0.2em;color: black;border-radius: 0.25em;background-color: #f0f8ff;}#sk-container-id-5 input.sk-toggleable__control:checked~div.sk-toggleable__content {max-height: 200px;max-width: 100%;overflow: auto;}#sk-container-id-5 input.sk-toggleable__control:checked~label.sk-toggleable__label-arrow:before {content: \"▾\";}#sk-container-id-5 div.sk-estimator input.sk-toggleable__control:checked~label.sk-toggleable__label {background-color: #d4ebff;}#sk-container-id-5 div.sk-label input.sk-toggleable__control:checked~label.sk-toggleable__label {background-color: #d4ebff;}#sk-container-id-5 input.sk-hidden--visually {border: 0;clip: rect(1px 1px 1px 1px);clip: rect(1px, 1px, 1px, 1px);height: 1px;margin: -1px;overflow: hidden;padding: 0;position: absolute;width: 1px;}#sk-container-id-5 div.sk-estimator {font-family: monospace;background-color: #f0f8ff;border: 1px dotted black;border-radius: 0.25em;box-sizing: border-box;margin-bottom: 0.5em;}#sk-container-id-5 div.sk-estimator:hover {background-color: #d4ebff;}#sk-container-id-5 div.sk-parallel-item::after {content: \"\";width: 100%;border-bottom: 1px solid gray;flex-grow: 1;}#sk-container-id-5 div.sk-label:hover label.sk-toggleable__label {background-color: #d4ebff;}#sk-container-id-5 div.sk-serial::before {content: \"\";position: absolute;border-left: 1px solid gray;box-sizing: border-box;top: 0;bottom: 0;left: 50%;z-index: 0;}#sk-container-id-5 div.sk-serial {display: flex;flex-direction: column;align-items: center;background-color: white;padding-right: 0.2em;padding-left: 0.2em;position: relative;}#sk-container-id-5 div.sk-item {position: relative;z-index: 1;}#sk-container-id-5 div.sk-parallel {display: flex;align-items: stretch;justify-content: center;background-color: white;position: relative;}#sk-container-id-5 div.sk-item::before, #sk-container-id-5 div.sk-parallel-item::before {content: \"\";position: absolute;border-left: 1px solid gray;box-sizing: border-box;top: 0;bottom: 0;left: 50%;z-index: -1;}#sk-container-id-5 div.sk-parallel-item {display: flex;flex-direction: column;z-index: 1;position: relative;background-color: white;}#sk-container-id-5 div.sk-parallel-item:first-child::after {align-self: flex-end;width: 50%;}#sk-container-id-5 div.sk-parallel-item:last-child::after {align-self: flex-start;width: 50%;}#sk-container-id-5 div.sk-parallel-item:only-child::after {width: 0;}#sk-container-id-5 div.sk-dashed-wrapped {border: 1px dashed gray;margin: 0 0.4em 0.5em 0.4em;box-sizing: border-box;padding-bottom: 0.4em;background-color: white;}#sk-container-id-5 div.sk-label label {font-family: monospace;font-weight: bold;display: inline-block;line-height: 1.2em;}#sk-container-id-5 div.sk-label-container {text-align: center;}#sk-container-id-5 div.sk-container {/* jupyter's `normalize.less` sets `[hidden] { display: none; }` but bootstrap.min.css set `[hidden] { display: none !important; }` so we also need the `!important` here to be able to override the default hidden behavior on the sphinx rendered scikit-learn.org. See: https://github.com/scikit-learn/scikit-learn/issues/21755 */display: inline-block !important;position: relative;}#sk-container-id-5 div.sk-text-repr-fallback {display: none;}</style><div id=\"sk-container-id-5\" class=\"sk-top-container\"><div class=\"sk-text-repr-fallback\"><pre>GridSearchCV(estimator=RandomForestClassifier(max_depth=2, n_jobs=-1,\n",
       "                                              random_state=0),\n",
       "             param_grid={&#x27;max_features&#x27;: [&#x27;sqrt&#x27;, &#x27;log2&#x27;, None],\n",
       "                         &#x27;min_samples_leaf&#x27;: [1, 2, 3],\n",
       "                         &#x27;min_samples_split&#x27;: [2, 3, 4],\n",
       "                         &#x27;n_estimators&#x27;: [10, 70, 100, 150]})</pre><b>In a Jupyter environment, please rerun this cell to show the HTML representation or trust the notebook. <br />On GitHub, the HTML representation is unable to render, please try loading this page with nbviewer.org.</b></div><div class=\"sk-container\" hidden><div class=\"sk-item sk-dashed-wrapped\"><div class=\"sk-label-container\"><div class=\"sk-label sk-toggleable\"><input class=\"sk-toggleable__control sk-hidden--visually\" id=\"sk-estimator-id-18\" type=\"checkbox\" ><label for=\"sk-estimator-id-18\" class=\"sk-toggleable__label sk-toggleable__label-arrow\">GridSearchCV</label><div class=\"sk-toggleable__content\"><pre>GridSearchCV(estimator=RandomForestClassifier(max_depth=2, n_jobs=-1,\n",
       "                                              random_state=0),\n",
       "             param_grid={&#x27;max_features&#x27;: [&#x27;sqrt&#x27;, &#x27;log2&#x27;, None],\n",
       "                         &#x27;min_samples_leaf&#x27;: [1, 2, 3],\n",
       "                         &#x27;min_samples_split&#x27;: [2, 3, 4],\n",
       "                         &#x27;n_estimators&#x27;: [10, 70, 100, 150]})</pre></div></div></div><div class=\"sk-parallel\"><div class=\"sk-parallel-item\"><div class=\"sk-item\"><div class=\"sk-label-container\"><div class=\"sk-label sk-toggleable\"><input class=\"sk-toggleable__control sk-hidden--visually\" id=\"sk-estimator-id-19\" type=\"checkbox\" ><label for=\"sk-estimator-id-19\" class=\"sk-toggleable__label sk-toggleable__label-arrow\">estimator: RandomForestClassifier</label><div class=\"sk-toggleable__content\"><pre>RandomForestClassifier(max_depth=2, n_jobs=-1, random_state=0)</pre></div></div></div><div class=\"sk-serial\"><div class=\"sk-item\"><div class=\"sk-estimator sk-toggleable\"><input class=\"sk-toggleable__control sk-hidden--visually\" id=\"sk-estimator-id-20\" type=\"checkbox\" ><label for=\"sk-estimator-id-20\" class=\"sk-toggleable__label sk-toggleable__label-arrow\">RandomForestClassifier</label><div class=\"sk-toggleable__content\"><pre>RandomForestClassifier(max_depth=2, n_jobs=-1, random_state=0)</pre></div></div></div></div></div></div></div></div></div></div>"
      ],
      "text/plain": [
       "GridSearchCV(estimator=RandomForestClassifier(max_depth=2, n_jobs=-1,\n",
       "                                              random_state=0),\n",
       "             param_grid={'max_features': ['sqrt', 'log2', None],\n",
       "                         'min_samples_leaf': [1, 2, 3],\n",
       "                         'min_samples_split': [2, 3, 4],\n",
       "                         'n_estimators': [10, 70, 100, 150]})"
      ]
     },
     "execution_count": 59,
     "metadata": {},
     "output_type": "execute_result"
    }
   ],
   "source": [
    "clf.fit(X_train_pca,y_train)"
   ]
  },
  {
   "cell_type": "code",
   "execution_count": 60,
   "id": "5934e169",
   "metadata": {},
   "outputs": [
    {
     "data": {
      "text/plain": [
       "{'max_features': 'sqrt',\n",
       " 'min_samples_leaf': 2,\n",
       " 'min_samples_split': 2,\n",
       " 'n_estimators': 100}"
      ]
     },
     "execution_count": 60,
     "metadata": {},
     "output_type": "execute_result"
    }
   ],
   "source": [
    "clf.best_params_"
   ]
  },
  {
   "cell_type": "code",
   "execution_count": 61,
   "id": "0148bbab",
   "metadata": {},
   "outputs": [],
   "source": [
    "y_pred  = clf.predict(X_val_pca)"
   ]
  },
  {
   "cell_type": "code",
   "execution_count": 62,
   "id": "ce2bfaa8",
   "metadata": {},
   "outputs": [
    {
     "data": {
      "text/plain": [
       "0.882183908045977"
      ]
     },
     "execution_count": 62,
     "metadata": {},
     "output_type": "execute_result"
    }
   ],
   "source": [
    "accuracy_score(y_val,y_pred)"
   ]
  },
  {
   "cell_type": "code",
   "execution_count": 63,
   "id": "77ffbfa3",
   "metadata": {},
   "outputs": [],
   "source": [
    "parameters = {'gamma':['scale','auto',0.3,0.5,1,3], 'kernel':['linear', 'poly', 'rbf', 'sigmoid'],\n",
    "              'degree':[2,3,4],'C':[0.1,1,5],'class_weight':[None,'balanced']}\n",
    "svc = SVC(random_state=42)"
   ]
  },
  {
   "cell_type": "code",
   "execution_count": 64,
   "id": "e9032c62",
   "metadata": {},
   "outputs": [],
   "source": [
    "clf_scv = GridSearchCV(svc, parameters)"
   ]
  },
  {
   "cell_type": "code",
   "execution_count": 65,
   "id": "50dda096",
   "metadata": {},
   "outputs": [
    {
     "data": {
      "text/html": [
       "<style>#sk-container-id-6 {color: black;background-color: white;}#sk-container-id-6 pre{padding: 0;}#sk-container-id-6 div.sk-toggleable {background-color: white;}#sk-container-id-6 label.sk-toggleable__label {cursor: pointer;display: block;width: 100%;margin-bottom: 0;padding: 0.3em;box-sizing: border-box;text-align: center;}#sk-container-id-6 label.sk-toggleable__label-arrow:before {content: \"▸\";float: left;margin-right: 0.25em;color: #696969;}#sk-container-id-6 label.sk-toggleable__label-arrow:hover:before {color: black;}#sk-container-id-6 div.sk-estimator:hover label.sk-toggleable__label-arrow:before {color: black;}#sk-container-id-6 div.sk-toggleable__content {max-height: 0;max-width: 0;overflow: hidden;text-align: left;background-color: #f0f8ff;}#sk-container-id-6 div.sk-toggleable__content pre {margin: 0.2em;color: black;border-radius: 0.25em;background-color: #f0f8ff;}#sk-container-id-6 input.sk-toggleable__control:checked~div.sk-toggleable__content {max-height: 200px;max-width: 100%;overflow: auto;}#sk-container-id-6 input.sk-toggleable__control:checked~label.sk-toggleable__label-arrow:before {content: \"▾\";}#sk-container-id-6 div.sk-estimator input.sk-toggleable__control:checked~label.sk-toggleable__label {background-color: #d4ebff;}#sk-container-id-6 div.sk-label input.sk-toggleable__control:checked~label.sk-toggleable__label {background-color: #d4ebff;}#sk-container-id-6 input.sk-hidden--visually {border: 0;clip: rect(1px 1px 1px 1px);clip: rect(1px, 1px, 1px, 1px);height: 1px;margin: -1px;overflow: hidden;padding: 0;position: absolute;width: 1px;}#sk-container-id-6 div.sk-estimator {font-family: monospace;background-color: #f0f8ff;border: 1px dotted black;border-radius: 0.25em;box-sizing: border-box;margin-bottom: 0.5em;}#sk-container-id-6 div.sk-estimator:hover {background-color: #d4ebff;}#sk-container-id-6 div.sk-parallel-item::after {content: \"\";width: 100%;border-bottom: 1px solid gray;flex-grow: 1;}#sk-container-id-6 div.sk-label:hover label.sk-toggleable__label {background-color: #d4ebff;}#sk-container-id-6 div.sk-serial::before {content: \"\";position: absolute;border-left: 1px solid gray;box-sizing: border-box;top: 0;bottom: 0;left: 50%;z-index: 0;}#sk-container-id-6 div.sk-serial {display: flex;flex-direction: column;align-items: center;background-color: white;padding-right: 0.2em;padding-left: 0.2em;position: relative;}#sk-container-id-6 div.sk-item {position: relative;z-index: 1;}#sk-container-id-6 div.sk-parallel {display: flex;align-items: stretch;justify-content: center;background-color: white;position: relative;}#sk-container-id-6 div.sk-item::before, #sk-container-id-6 div.sk-parallel-item::before {content: \"\";position: absolute;border-left: 1px solid gray;box-sizing: border-box;top: 0;bottom: 0;left: 50%;z-index: -1;}#sk-container-id-6 div.sk-parallel-item {display: flex;flex-direction: column;z-index: 1;position: relative;background-color: white;}#sk-container-id-6 div.sk-parallel-item:first-child::after {align-self: flex-end;width: 50%;}#sk-container-id-6 div.sk-parallel-item:last-child::after {align-self: flex-start;width: 50%;}#sk-container-id-6 div.sk-parallel-item:only-child::after {width: 0;}#sk-container-id-6 div.sk-dashed-wrapped {border: 1px dashed gray;margin: 0 0.4em 0.5em 0.4em;box-sizing: border-box;padding-bottom: 0.4em;background-color: white;}#sk-container-id-6 div.sk-label label {font-family: monospace;font-weight: bold;display: inline-block;line-height: 1.2em;}#sk-container-id-6 div.sk-label-container {text-align: center;}#sk-container-id-6 div.sk-container {/* jupyter's `normalize.less` sets `[hidden] { display: none; }` but bootstrap.min.css set `[hidden] { display: none !important; }` so we also need the `!important` here to be able to override the default hidden behavior on the sphinx rendered scikit-learn.org. See: https://github.com/scikit-learn/scikit-learn/issues/21755 */display: inline-block !important;position: relative;}#sk-container-id-6 div.sk-text-repr-fallback {display: none;}</style><div id=\"sk-container-id-6\" class=\"sk-top-container\"><div class=\"sk-text-repr-fallback\"><pre>GridSearchCV(estimator=SVC(random_state=42),\n",
       "             param_grid={&#x27;C&#x27;: [0.1, 1, 5], &#x27;class_weight&#x27;: [None, &#x27;balanced&#x27;],\n",
       "                         &#x27;degree&#x27;: [2, 3, 4],\n",
       "                         &#x27;gamma&#x27;: [&#x27;scale&#x27;, &#x27;auto&#x27;, 0.3, 0.5, 1, 3],\n",
       "                         &#x27;kernel&#x27;: [&#x27;linear&#x27;, &#x27;poly&#x27;, &#x27;rbf&#x27;, &#x27;sigmoid&#x27;]})</pre><b>In a Jupyter environment, please rerun this cell to show the HTML representation or trust the notebook. <br />On GitHub, the HTML representation is unable to render, please try loading this page with nbviewer.org.</b></div><div class=\"sk-container\" hidden><div class=\"sk-item sk-dashed-wrapped\"><div class=\"sk-label-container\"><div class=\"sk-label sk-toggleable\"><input class=\"sk-toggleable__control sk-hidden--visually\" id=\"sk-estimator-id-21\" type=\"checkbox\" ><label for=\"sk-estimator-id-21\" class=\"sk-toggleable__label sk-toggleable__label-arrow\">GridSearchCV</label><div class=\"sk-toggleable__content\"><pre>GridSearchCV(estimator=SVC(random_state=42),\n",
       "             param_grid={&#x27;C&#x27;: [0.1, 1, 5], &#x27;class_weight&#x27;: [None, &#x27;balanced&#x27;],\n",
       "                         &#x27;degree&#x27;: [2, 3, 4],\n",
       "                         &#x27;gamma&#x27;: [&#x27;scale&#x27;, &#x27;auto&#x27;, 0.3, 0.5, 1, 3],\n",
       "                         &#x27;kernel&#x27;: [&#x27;linear&#x27;, &#x27;poly&#x27;, &#x27;rbf&#x27;, &#x27;sigmoid&#x27;]})</pre></div></div></div><div class=\"sk-parallel\"><div class=\"sk-parallel-item\"><div class=\"sk-item\"><div class=\"sk-label-container\"><div class=\"sk-label sk-toggleable\"><input class=\"sk-toggleable__control sk-hidden--visually\" id=\"sk-estimator-id-22\" type=\"checkbox\" ><label for=\"sk-estimator-id-22\" class=\"sk-toggleable__label sk-toggleable__label-arrow\">estimator: SVC</label><div class=\"sk-toggleable__content\"><pre>SVC(random_state=42)</pre></div></div></div><div class=\"sk-serial\"><div class=\"sk-item\"><div class=\"sk-estimator sk-toggleable\"><input class=\"sk-toggleable__control sk-hidden--visually\" id=\"sk-estimator-id-23\" type=\"checkbox\" ><label for=\"sk-estimator-id-23\" class=\"sk-toggleable__label sk-toggleable__label-arrow\">SVC</label><div class=\"sk-toggleable__content\"><pre>SVC(random_state=42)</pre></div></div></div></div></div></div></div></div></div></div>"
      ],
      "text/plain": [
       "GridSearchCV(estimator=SVC(random_state=42),\n",
       "             param_grid={'C': [0.1, 1, 5], 'class_weight': [None, 'balanced'],\n",
       "                         'degree': [2, 3, 4],\n",
       "                         'gamma': ['scale', 'auto', 0.3, 0.5, 1, 3],\n",
       "                         'kernel': ['linear', 'poly', 'rbf', 'sigmoid']})"
      ]
     },
     "execution_count": 65,
     "metadata": {},
     "output_type": "execute_result"
    }
   ],
   "source": [
    "clf_scv.fit(X_train_pca,y_train)"
   ]
  },
  {
   "cell_type": "code",
   "execution_count": 66,
   "id": "23e8badf",
   "metadata": {},
   "outputs": [
    {
     "data": {
      "text/plain": [
       "{'C': 1, 'class_weight': None, 'degree': 2, 'gamma': 'auto', 'kernel': 'rbf'}"
      ]
     },
     "execution_count": 66,
     "metadata": {},
     "output_type": "execute_result"
    }
   ],
   "source": [
    "clf_scv.best_params_"
   ]
  },
  {
   "cell_type": "code",
   "execution_count": 67,
   "id": "2db8f0b5",
   "metadata": {},
   "outputs": [],
   "source": [
    "y_pred = clf_scv.predict(X_val_pca)"
   ]
  },
  {
   "cell_type": "code",
   "execution_count": 68,
   "id": "c7df24d0",
   "metadata": {},
   "outputs": [
    {
     "data": {
      "text/plain": [
       "0.8793103448275862"
      ]
     },
     "execution_count": 68,
     "metadata": {},
     "output_type": "execute_result"
    }
   ],
   "source": [
    "accuracy_score(y_val,y_pred)"
   ]
  },
  {
   "cell_type": "markdown",
   "id": "e3b745d9",
   "metadata": {},
   "source": [
    "# Multiclass test"
   ]
  },
  {
   "cell_type": "code",
   "execution_count": 69,
   "id": "2c47426a",
   "metadata": {},
   "outputs": [],
   "source": [
    "X_train = npf[colss]"
   ]
  },
  {
   "cell_type": "code",
   "execution_count": 70,
   "id": "9039d04d",
   "metadata": {},
   "outputs": [],
   "source": [
    "X_train_mult,X_val_mult,y_train_mult2,y_val_mult = train_test_split(X_train,y_train_mult, test_size=0.25, random_state=42,stratify=y_train_mult)"
   ]
  },
  {
   "cell_type": "code",
   "execution_count": 71,
   "id": "9b336ca5",
   "metadata": {},
   "outputs": [],
   "source": [
    "y_val_b = (y_val_mult != 3).astype(int)"
   ]
  },
  {
   "cell_type": "code",
   "execution_count": 72,
   "id": "6582fdb9",
   "metadata": {},
   "outputs": [],
   "source": [
    "def perplexity(p,y_test):\n",
    "    return np.exp(-np.mean(np.log(y_test*p + (1 - y_test) * (1 - p))))"
   ]
  },
  {
   "cell_type": "code",
   "execution_count": 100,
   "id": "e6062c31",
   "metadata": {},
   "outputs": [],
   "source": [
    "def perplexity_mult2(p,y_test):\n",
    "    return np.exp(-np.mean(np.log(y_test*p + (1 - y_test) * (1 - p))))"
   ]
  },
  {
   "cell_type": "code",
   "execution_count": 74,
   "id": "bec464e0",
   "metadata": {},
   "outputs": [],
   "source": [
    "def acc_pipe_model_mult(name,model,can_prob):\n",
    "    pipe = Pipeline([('scaler',StandardScaler()),('pca',PCA(n_components=20)),(name,model)])\n",
    "    pipe.fit(X_train_mult,y_train_mult2)\n",
    "    y_pred = pipe.predict(X_val_mult)\n",
    "    perp = 1\n",
    "    if can_prob:\n",
    "        y_probs = pipe.predict_proba(X_val_mult)\n",
    "        perp = perplexity(y_probs[:,0:3].sum(axis=1),y_val_b)\n",
    "    acc = accuracy_score(y_val_mult,y_pred)\n",
    "    return acc,perp,pipe"
   ]
  },
  {
   "cell_type": "code",
   "execution_count": 75,
   "id": "96a4d52e",
   "metadata": {},
   "outputs": [
    {
     "name": "stdout",
     "output_type": "stream",
     "text": [
      "0.7068965517241379\n",
      "1.2079715907495463\n"
     ]
    }
   ],
   "source": [
    "svc = SVC(random_state=42,probability=True)\n",
    "acc,perp, pipeline = acc_pipe_model_mult('svc',svc,True)\n",
    "print(acc)\n",
    "print(perp)"
   ]
  },
  {
   "cell_type": "code",
   "execution_count": 76,
   "id": "30ad34fb",
   "metadata": {},
   "outputs": [],
   "source": [
    "parameters = {'svc__gamma':['scale','auto',0.3,0.5,1,3], 'svc__kernel':['linear', 'poly', 'rbf', 'sigmoid'],\n",
    "              'svc__degree':[2,3,4,5],'svc__C':[0.1,0.7,1,5],'svc__class_weight':[None,'balanced'],\n",
    "              'svc__decision_function_shape':['ovo','ovr']}"
   ]
  },
  {
   "cell_type": "code",
   "execution_count": 77,
   "id": "765fb635",
   "metadata": {},
   "outputs": [],
   "source": [
    "clf_scv = GridSearchCV(pipeline, parameters)"
   ]
  },
  {
   "cell_type": "code",
   "execution_count": 78,
   "id": "0fcb271e",
   "metadata": {},
   "outputs": [
    {
     "data": {
      "text/html": [
       "<style>#sk-container-id-7 {color: black;background-color: white;}#sk-container-id-7 pre{padding: 0;}#sk-container-id-7 div.sk-toggleable {background-color: white;}#sk-container-id-7 label.sk-toggleable__label {cursor: pointer;display: block;width: 100%;margin-bottom: 0;padding: 0.3em;box-sizing: border-box;text-align: center;}#sk-container-id-7 label.sk-toggleable__label-arrow:before {content: \"▸\";float: left;margin-right: 0.25em;color: #696969;}#sk-container-id-7 label.sk-toggleable__label-arrow:hover:before {color: black;}#sk-container-id-7 div.sk-estimator:hover label.sk-toggleable__label-arrow:before {color: black;}#sk-container-id-7 div.sk-toggleable__content {max-height: 0;max-width: 0;overflow: hidden;text-align: left;background-color: #f0f8ff;}#sk-container-id-7 div.sk-toggleable__content pre {margin: 0.2em;color: black;border-radius: 0.25em;background-color: #f0f8ff;}#sk-container-id-7 input.sk-toggleable__control:checked~div.sk-toggleable__content {max-height: 200px;max-width: 100%;overflow: auto;}#sk-container-id-7 input.sk-toggleable__control:checked~label.sk-toggleable__label-arrow:before {content: \"▾\";}#sk-container-id-7 div.sk-estimator input.sk-toggleable__control:checked~label.sk-toggleable__label {background-color: #d4ebff;}#sk-container-id-7 div.sk-label input.sk-toggleable__control:checked~label.sk-toggleable__label {background-color: #d4ebff;}#sk-container-id-7 input.sk-hidden--visually {border: 0;clip: rect(1px 1px 1px 1px);clip: rect(1px, 1px, 1px, 1px);height: 1px;margin: -1px;overflow: hidden;padding: 0;position: absolute;width: 1px;}#sk-container-id-7 div.sk-estimator {font-family: monospace;background-color: #f0f8ff;border: 1px dotted black;border-radius: 0.25em;box-sizing: border-box;margin-bottom: 0.5em;}#sk-container-id-7 div.sk-estimator:hover {background-color: #d4ebff;}#sk-container-id-7 div.sk-parallel-item::after {content: \"\";width: 100%;border-bottom: 1px solid gray;flex-grow: 1;}#sk-container-id-7 div.sk-label:hover label.sk-toggleable__label {background-color: #d4ebff;}#sk-container-id-7 div.sk-serial::before {content: \"\";position: absolute;border-left: 1px solid gray;box-sizing: border-box;top: 0;bottom: 0;left: 50%;z-index: 0;}#sk-container-id-7 div.sk-serial {display: flex;flex-direction: column;align-items: center;background-color: white;padding-right: 0.2em;padding-left: 0.2em;position: relative;}#sk-container-id-7 div.sk-item {position: relative;z-index: 1;}#sk-container-id-7 div.sk-parallel {display: flex;align-items: stretch;justify-content: center;background-color: white;position: relative;}#sk-container-id-7 div.sk-item::before, #sk-container-id-7 div.sk-parallel-item::before {content: \"\";position: absolute;border-left: 1px solid gray;box-sizing: border-box;top: 0;bottom: 0;left: 50%;z-index: -1;}#sk-container-id-7 div.sk-parallel-item {display: flex;flex-direction: column;z-index: 1;position: relative;background-color: white;}#sk-container-id-7 div.sk-parallel-item:first-child::after {align-self: flex-end;width: 50%;}#sk-container-id-7 div.sk-parallel-item:last-child::after {align-self: flex-start;width: 50%;}#sk-container-id-7 div.sk-parallel-item:only-child::after {width: 0;}#sk-container-id-7 div.sk-dashed-wrapped {border: 1px dashed gray;margin: 0 0.4em 0.5em 0.4em;box-sizing: border-box;padding-bottom: 0.4em;background-color: white;}#sk-container-id-7 div.sk-label label {font-family: monospace;font-weight: bold;display: inline-block;line-height: 1.2em;}#sk-container-id-7 div.sk-label-container {text-align: center;}#sk-container-id-7 div.sk-container {/* jupyter's `normalize.less` sets `[hidden] { display: none; }` but bootstrap.min.css set `[hidden] { display: none !important; }` so we also need the `!important` here to be able to override the default hidden behavior on the sphinx rendered scikit-learn.org. See: https://github.com/scikit-learn/scikit-learn/issues/21755 */display: inline-block !important;position: relative;}#sk-container-id-7 div.sk-text-repr-fallback {display: none;}</style><div id=\"sk-container-id-7\" class=\"sk-top-container\"><div class=\"sk-text-repr-fallback\"><pre>GridSearchCV(estimator=Pipeline(steps=[(&#x27;scaler&#x27;, StandardScaler()),\n",
       "                                       (&#x27;pca&#x27;, PCA(n_components=20)),\n",
       "                                       (&#x27;svc&#x27;,\n",
       "                                        SVC(probability=True,\n",
       "                                            random_state=42))]),\n",
       "             param_grid={&#x27;svc__C&#x27;: [0.1, 0.7, 1, 5],\n",
       "                         &#x27;svc__class_weight&#x27;: [None, &#x27;balanced&#x27;],\n",
       "                         &#x27;svc__decision_function_shape&#x27;: [&#x27;ovo&#x27;, &#x27;ovr&#x27;],\n",
       "                         &#x27;svc__degree&#x27;: [2, 3, 4, 5],\n",
       "                         &#x27;svc__gamma&#x27;: [&#x27;scale&#x27;, &#x27;auto&#x27;, 0.3, 0.5, 1, 3],\n",
       "                         &#x27;svc__kernel&#x27;: [&#x27;linear&#x27;, &#x27;poly&#x27;, &#x27;rbf&#x27;, &#x27;sigmoid&#x27;]})</pre><b>In a Jupyter environment, please rerun this cell to show the HTML representation or trust the notebook. <br />On GitHub, the HTML representation is unable to render, please try loading this page with nbviewer.org.</b></div><div class=\"sk-container\" hidden><div class=\"sk-item sk-dashed-wrapped\"><div class=\"sk-label-container\"><div class=\"sk-label sk-toggleable\"><input class=\"sk-toggleable__control sk-hidden--visually\" id=\"sk-estimator-id-24\" type=\"checkbox\" ><label for=\"sk-estimator-id-24\" class=\"sk-toggleable__label sk-toggleable__label-arrow\">GridSearchCV</label><div class=\"sk-toggleable__content\"><pre>GridSearchCV(estimator=Pipeline(steps=[(&#x27;scaler&#x27;, StandardScaler()),\n",
       "                                       (&#x27;pca&#x27;, PCA(n_components=20)),\n",
       "                                       (&#x27;svc&#x27;,\n",
       "                                        SVC(probability=True,\n",
       "                                            random_state=42))]),\n",
       "             param_grid={&#x27;svc__C&#x27;: [0.1, 0.7, 1, 5],\n",
       "                         &#x27;svc__class_weight&#x27;: [None, &#x27;balanced&#x27;],\n",
       "                         &#x27;svc__decision_function_shape&#x27;: [&#x27;ovo&#x27;, &#x27;ovr&#x27;],\n",
       "                         &#x27;svc__degree&#x27;: [2, 3, 4, 5],\n",
       "                         &#x27;svc__gamma&#x27;: [&#x27;scale&#x27;, &#x27;auto&#x27;, 0.3, 0.5, 1, 3],\n",
       "                         &#x27;svc__kernel&#x27;: [&#x27;linear&#x27;, &#x27;poly&#x27;, &#x27;rbf&#x27;, &#x27;sigmoid&#x27;]})</pre></div></div></div><div class=\"sk-parallel\"><div class=\"sk-parallel-item\"><div class=\"sk-item\"><div class=\"sk-label-container\"><div class=\"sk-label sk-toggleable\"><input class=\"sk-toggleable__control sk-hidden--visually\" id=\"sk-estimator-id-25\" type=\"checkbox\" ><label for=\"sk-estimator-id-25\" class=\"sk-toggleable__label sk-toggleable__label-arrow\">estimator: Pipeline</label><div class=\"sk-toggleable__content\"><pre>Pipeline(steps=[(&#x27;scaler&#x27;, StandardScaler()), (&#x27;pca&#x27;, PCA(n_components=20)),\n",
       "                (&#x27;svc&#x27;, SVC(probability=True, random_state=42))])</pre></div></div></div><div class=\"sk-serial\"><div class=\"sk-item\"><div class=\"sk-serial\"><div class=\"sk-item\"><div class=\"sk-estimator sk-toggleable\"><input class=\"sk-toggleable__control sk-hidden--visually\" id=\"sk-estimator-id-26\" type=\"checkbox\" ><label for=\"sk-estimator-id-26\" class=\"sk-toggleable__label sk-toggleable__label-arrow\">StandardScaler</label><div class=\"sk-toggleable__content\"><pre>StandardScaler()</pre></div></div></div><div class=\"sk-item\"><div class=\"sk-estimator sk-toggleable\"><input class=\"sk-toggleable__control sk-hidden--visually\" id=\"sk-estimator-id-27\" type=\"checkbox\" ><label for=\"sk-estimator-id-27\" class=\"sk-toggleable__label sk-toggleable__label-arrow\">PCA</label><div class=\"sk-toggleable__content\"><pre>PCA(n_components=20)</pre></div></div></div><div class=\"sk-item\"><div class=\"sk-estimator sk-toggleable\"><input class=\"sk-toggleable__control sk-hidden--visually\" id=\"sk-estimator-id-28\" type=\"checkbox\" ><label for=\"sk-estimator-id-28\" class=\"sk-toggleable__label sk-toggleable__label-arrow\">SVC</label><div class=\"sk-toggleable__content\"><pre>SVC(probability=True, random_state=42)</pre></div></div></div></div></div></div></div></div></div></div></div></div>"
      ],
      "text/plain": [
       "GridSearchCV(estimator=Pipeline(steps=[('scaler', StandardScaler()),\n",
       "                                       ('pca', PCA(n_components=20)),\n",
       "                                       ('svc',\n",
       "                                        SVC(probability=True,\n",
       "                                            random_state=42))]),\n",
       "             param_grid={'svc__C': [0.1, 0.7, 1, 5],\n",
       "                         'svc__class_weight': [None, 'balanced'],\n",
       "                         'svc__decision_function_shape': ['ovo', 'ovr'],\n",
       "                         'svc__degree': [2, 3, 4, 5],\n",
       "                         'svc__gamma': ['scale', 'auto', 0.3, 0.5, 1, 3],\n",
       "                         'svc__kernel': ['linear', 'poly', 'rbf', 'sigmoid']})"
      ]
     },
     "execution_count": 78,
     "metadata": {},
     "output_type": "execute_result"
    }
   ],
   "source": [
    "clf_scv.fit(X_train_mult,y_train_mult2)"
   ]
  },
  {
   "cell_type": "code",
   "execution_count": 79,
   "id": "41792020",
   "metadata": {},
   "outputs": [
    {
     "data": {
      "text/plain": [
       "{'svc__C': 1,\n",
       " 'svc__class_weight': None,\n",
       " 'svc__decision_function_shape': 'ovo',\n",
       " 'svc__degree': 2,\n",
       " 'svc__gamma': 'scale',\n",
       " 'svc__kernel': 'rbf'}"
      ]
     },
     "execution_count": 79,
     "metadata": {},
     "output_type": "execute_result"
    }
   ],
   "source": [
    "clf_scv.best_params_"
   ]
  },
  {
   "cell_type": "code",
   "execution_count": 80,
   "id": "0fd62424",
   "metadata": {},
   "outputs": [],
   "source": [
    "y_pred = clf_scv.predict(X_val_mult)"
   ]
  },
  {
   "cell_type": "code",
   "execution_count": 81,
   "id": "7b67a60e",
   "metadata": {},
   "outputs": [
    {
     "data": {
      "text/plain": [
       "0.7068965517241379"
      ]
     },
     "execution_count": 81,
     "metadata": {},
     "output_type": "execute_result"
    }
   ],
   "source": [
    "accuracy_score(y_val_mult,y_pred)"
   ]
  },
  {
   "cell_type": "code",
   "execution_count": 82,
   "id": "5ffa209d",
   "metadata": {},
   "outputs": [
    {
     "data": {
      "text/plain": [
       "array([[17,  0,  4,  7],\n",
       "       [ 5,  0,  3,  1],\n",
       "       [ 8,  0, 10,  3],\n",
       "       [ 3,  0,  0, 55]], dtype=int64)"
      ]
     },
     "execution_count": 82,
     "metadata": {},
     "output_type": "execute_result"
    }
   ],
   "source": [
    "confusion_matrix(y_val_mult,y_pred)"
   ]
  },
  {
   "cell_type": "code",
   "execution_count": 83,
   "id": "f122a4dd",
   "metadata": {},
   "outputs": [
    {
     "name": "stderr",
     "output_type": "stream",
     "text": [
      "C:\\Users\\srodriguezb\\Anaconda3\\envs\\introds\\lib\\site-packages\\sklearn\\utils\\deprecation.py:87: FutureWarning: Function plot_confusion_matrix is deprecated; Function `plot_confusion_matrix` is deprecated in 1.0 and will be removed in 1.2. Use one of the class methods: ConfusionMatrixDisplay.from_predictions or ConfusionMatrixDisplay.from_estimator.\n",
      "  warnings.warn(msg, category=FutureWarning)\n"
     ]
    },
    {
     "data": {
      "text/plain": [
       "<sklearn.metrics._plot.confusion_matrix.ConfusionMatrixDisplay at 0x18a37657b50>"
      ]
     },
     "execution_count": 83,
     "metadata": {},
     "output_type": "execute_result"
    },
    {
     "data": {
      "image/png": "[encoded data removed]",
      "text/plain": [
       "<Figure size 640x480 with 2 Axes>"
      ]
     },
     "metadata": {},
     "output_type": "display_data"
    }
   ],
   "source": [
    "plot_confusion_matrix(clf_scv,X_val_mult,y_val_mult)"
   ]
  },
  {
   "cell_type": "code",
   "execution_count": 84,
   "id": "9486ab5e",
   "metadata": {},
   "outputs": [],
   "source": [
    "svc = SVC(random_state=42,probability=True,C = 1,class_weight = None,gamma='scale',kernel='rbf',decision_function_shape = 'ovo')\n",
    "pipe_svc = Pipeline([('scaler',StandardScaler()),('pca',PCA(n_components=20)),('svc',svc)])"
   ]
  },
  {
   "cell_type": "code",
   "execution_count": 85,
   "id": "02237b19",
   "metadata": {},
   "outputs": [
    {
     "data": {
      "text/plain": [
       "{'fit_time': array([0.0379951 , 0.04099798, 0.04700255, 0.05199981, 0.03799677]),\n",
       " 'score_time': array([0.00500178, 0.00299978, 0.00599861, 0.00500369, 0.00399971]),\n",
       " 'test_score': array([0.65591398, 0.61290323, 0.70967742, 0.74193548, 0.64130435])}"
      ]
     },
     "execution_count": 85,
     "metadata": {},
     "output_type": "execute_result"
    }
   ],
   "source": [
    "cv = StratifiedKFold(n_splits=5)\n",
    "cv_results = cross_validate(pipe_svc, X_train, y_train_mult,cv=cv,scoring='accuracy')\n",
    "cv_results"
   ]
  },
  {
   "cell_type": "code",
   "execution_count": 86,
   "id": "227fafb9",
   "metadata": {},
   "outputs": [
    {
     "data": {
      "text/plain": [
       "dict_keys(['fit_time', 'score_time', 'test_score'])"
      ]
     },
     "execution_count": 86,
     "metadata": {},
     "output_type": "execute_result"
    }
   ],
   "source": [
    "cv_results.keys()"
   ]
  },
  {
   "cell_type": "code",
   "execution_count": 87,
   "id": "02568db1",
   "metadata": {},
   "outputs": [
    {
     "name": "stdout",
     "output_type": "stream",
     "text": [
      "0.7068965517241379\n",
      "1.2079715907495463\n"
     ]
    }
   ],
   "source": [
    "acc, perp,pipeline = acc_pipe_model_mult('svc',svc,True)\n",
    "print(acc)\n",
    "print(perp)"
   ]
  },
  {
   "cell_type": "code",
   "execution_count": 88,
   "id": "93bf5a26",
   "metadata": {},
   "outputs": [
    {
     "name": "stdout",
     "output_type": "stream",
     "text": [
      "0.6724137931034483\n",
      "1.2187076825000311\n"
     ]
    }
   ],
   "source": [
    "log_l1 = LogisticRegression(multi_class='multinomial', solver='saga', penalty='l1', C=1.0,max_iter=2000)\n",
    "acc, perp,pipeline = acc_pipe_model_mult('log_l1',log_l1,True)\n",
    "print(acc)\n",
    "print(perp)"
   ]
  },
  {
   "cell_type": "code",
   "execution_count": 89,
   "id": "28b1820d",
   "metadata": {},
   "outputs": [
    {
     "name": "stdout",
     "output_type": "stream",
     "text": [
      "0.6724137931034483\n",
      "1.2535097638769146\n"
     ]
    }
   ],
   "source": [
    "log_ovr = LogisticRegression(multi_class='ovr', solver='saga', penalty='l2', C=1.0,max_iter=2000)\n",
    "acc,perp, pipeline_l = acc_pipe_model_mult('log_ovr',log_ovr,True)\n",
    "print(acc)\n",
    "print(perp)"
   ]
  },
  {
   "cell_type": "code",
   "execution_count": 90,
   "id": "da67a9f2",
   "metadata": {},
   "outputs": [],
   "source": [
    "pipe = Pipeline([('scaler',StandardScaler()),('pca',PCA(n_components=18)),('poly',PolynomialFeatures(2)),('log',LogisticRegression(solver='saga',max_iter=5000))])"
   ]
  },
  {
   "cell_type": "code",
   "execution_count": 91,
   "id": "78102476",
   "metadata": {},
   "outputs": [
    {
     "data": {
      "text/plain": [
       "0.7068965517241379"
      ]
     },
     "execution_count": 91,
     "metadata": {},
     "output_type": "execute_result"
    }
   ],
   "source": [
    "pipe.fit(X_train_mult,y_train_mult2)\n",
    "y_pred = pipe.predict(X_val_mult)\n",
    "acc = accuracy_score(y_val_mult,y_pred)\n",
    "acc"
   ]
  },
  {
   "cell_type": "code",
   "execution_count": 92,
   "id": "1806e14f",
   "metadata": {},
   "outputs": [
    {
     "name": "stdout",
     "output_type": "stream",
     "text": [
      "0.603448275862069\n"
     ]
    }
   ],
   "source": [
    "rf = RandomForestClassifier(max_depth=2, random_state=0,max_features= 'sqrt')\n",
    "acc,_, pipeline = acc_pipe_model_mult('rf',rf,False)\n",
    "print(acc)"
   ]
  },
  {
   "cell_type": "code",
   "execution_count": 93,
   "id": "7e78bfed",
   "metadata": {},
   "outputs": [
    {
     "data": {
      "text/plain": [
       "['II', 'Ia', 'Ib', 'nonevent']"
      ]
     },
     "execution_count": 93,
     "metadata": {},
     "output_type": "execute_result"
    }
   ],
   "source": [
    "list_cat"
   ]
  },
  {
   "cell_type": "code",
   "execution_count": 94,
   "id": "97d84c48",
   "metadata": {},
   "outputs": [],
   "source": [
    "# All requested models are implemented by sklearn, luckily\n",
    "models = [Pipeline([('scaler',StandardScaler()),('pca',PCA(n_components=18)),('log',LogisticRegression(solver='saga',max_iter=5000))]),\n",
    "          Pipeline([('scaler',StandardScaler()),('pca',PCA(n_components=18)),('svc',SVC(random_state=42,probability=True,C = 1,class_weight = None,gamma='scale',kernel='rbf',decision_function_shape = 'ovo'))]),\n",
    "          Pipeline([('scaler',StandardScaler()),('pca',PCA(n_components=18)),('rf',RandomForestClassifier(max_depth=2, random_state=0,max_features= 'sqrt'))])]\n",
    "# It is a good idea to collect the results in a data frame, one row for a regressor.\n",
    "res = pd.DataFrame(index=[\"Log\", \"SVR\", \"RF\"])"
   ]
  },
  {
   "cell_type": "code",
   "execution_count": 97,
   "id": "4825d571",
   "metadata": {},
   "outputs": [],
   "source": [
    "sum_e = 0\n",
    "sum_ne= 0\n",
    "for i,j in Counter(y_train_mult2).items():\n",
    "    if i != 3:\n",
    "        sum_e += j/len(y_train_mult2)\n",
    "    else:\n",
    "        sum_ne = j/len(y_train_mult2)"
   ]
  },
  {
   "cell_type": "code",
   "execution_count": 101,
   "id": "6cecfaa9",
   "metadata": {},
   "outputs": [],
   "source": [
    "# Loss on training data, for model trained on training data:\n",
    "res[\"loss_train\"] = [loss(X_train_mult, y_train_mult2, X_train_mult, y_train_mult2, m) for m in models]\n",
    "# Los on test data, for model trained on training data:\n",
    "res[\"loss_val\"] = [loss(X_train_mult, y_train_mult2, X_val_mult, y_val_mult, m) for m in models]\n",
    "\n",
    "res[\"acc_val\"] = [acc_m(X_train_mult, y_train_mult2, X_val_mult, y_val_mult, m) for m in models]\n",
    "\n",
    "res[\"perp_bin\"] = [perplexity_mult(X_train_mult, y_train_mult2, X_val_mult, y_val_mult, m) for m in models]\n",
    "# Cross-validation loss:\n",
    "cv = StratifiedKFold(n_splits=4)\n",
    "res[\"cv\"] = [\n",
    "    -cross_val_score(\n",
    "        m, X_train,y_train_mult, cv=cv, scoring=\"neg_root_mean_squared_error\"\n",
    "    ).mean()\n",
    "    for m in models\n",
    "]"
   ]
  },
  {
   "cell_type": "code",
   "execution_count": 102,
   "id": "d658c7ef",
   "metadata": {},
   "outputs": [
    {
     "data": {
      "text/html": [
       "<div>\n",
       "<style scoped>\n",
       "    .dataframe tbody tr th:only-of-type {\n",
       "        vertical-align: middle;\n",
       "    }\n",
       "\n",
       "    .dataframe tbody tr th {\n",
       "        vertical-align: top;\n",
       "    }\n",
       "\n",
       "    .dataframe thead th {\n",
       "        text-align: right;\n",
       "    }\n",
       "</style>\n",
       "<table border=\"1\" class=\"dataframe\">\n",
       "  <thead>\n",
       "    <tr style=\"text-align: right;\">\n",
       "      <th></th>\n",
       "      <th>loss_train</th>\n",
       "      <th>loss_val</th>\n",
       "      <th>acc_val</th>\n",
       "      <th>perp_bin</th>\n",
       "      <th>cv</th>\n",
       "    </tr>\n",
       "  </thead>\n",
       "  <tbody>\n",
       "    <tr>\n",
       "      <th>Log</th>\n",
       "      <td>1.129541</td>\n",
       "      <td>1.125718</td>\n",
       "      <td>0.689655</td>\n",
       "      <td>1.214729</td>\n",
       "      <td>1.249056</td>\n",
       "    </tr>\n",
       "    <tr>\n",
       "      <th>SVR</th>\n",
       "      <td>1.115461</td>\n",
       "      <td>1.148462</td>\n",
       "      <td>0.706897</td>\n",
       "      <td>1.161488</td>\n",
       "      <td>1.213771</td>\n",
       "    </tr>\n",
       "    <tr>\n",
       "      <th>RF</th>\n",
       "      <td>1.325046</td>\n",
       "      <td>1.364576</td>\n",
       "      <td>0.594828</td>\n",
       "      <td>2.051131</td>\n",
       "      <td>1.445413</td>\n",
       "    </tr>\n",
       "  </tbody>\n",
       "</table>\n",
       "</div>"
      ],
      "text/plain": [
       "     loss_train  loss_val   acc_val  perp_bin        cv\n",
       "Log    1.129541  1.125718  0.689655  1.214729  1.249056\n",
       "SVR    1.115461  1.148462  0.706897  1.161488  1.213771\n",
       "RF     1.325046  1.364576  0.594828  2.051131  1.445413"
      ]
     },
     "execution_count": 102,
     "metadata": {},
     "output_type": "execute_result"
    }
   ],
   "source": [
    "res"
   ]
  },
  {
   "cell_type": "code",
   "execution_count": 103,
   "id": "d0b07bd8",
   "metadata": {},
   "outputs": [],
   "source": [
    "pipe = Pipeline([('scaler',StandardScaler()),('pca',PCA(n_components=18)),('svc',SVC(random_state=42,probability=True,C = 1,class_weight = None,gamma='scale',kernel='rbf',decision_function_shape = 'ovo'))])\n",
    "pipe.fit(X_train_mult, y_train_mult2)\n",
    "y_pred = pipe.predict(X_val_mult)\n",
    "y_probs = pipe.predict_proba(X_val_mult)"
   ]
  },
  {
   "cell_type": "code",
   "execution_count": 104,
   "id": "7e9bdd92",
   "metadata": {},
   "outputs": [],
   "source": [
    "#The model must be already trained and must be able to output probabilities\n",
    "def generate_answers(model):\n",
    "    y_pred = model.predict(X_test)\n",
    "    y_pred_proba= model.predict_proba(X_test)\n",
    "    df = pd.DataFrame()\n",
    "    p_f = []\n",
    "    lab = []\n",
    "    for i,p in zip(y_pred,y_pred_proba):\n",
    "        if i == 3:\n",
    "            p_f.append(p[i])\n",
    "            lab.append(list_cat[i])\n",
    "        else:\n",
    "            p_f.append(p[:3].sum())\n",
    "            lab.append(list_cat[i])\n",
    "    df['class4'] = lab\n",
    "    df['p'] = p_f\n",
    "    df.to_csv('../data/answers.csv',index=False)"
   ]
  },
  {
   "cell_type": "markdown",
   "id": "c5123c42",
   "metadata": {},
   "source": [
    "#TODO Calculate perplexity  \n",
    "#TODO Improve the multiclass prediction  \n",
    "#TODO If we don't use a classifier that gives probabilities, we have to return the probability for each class, like the prior I think."
   ]
  },
  {
   "cell_type": "code",
   "execution_count": 105,
   "id": "3528131f",
   "metadata": {},
   "outputs": [],
   "source": [
    "generate_answers(pipe)"
   ]
  },
  {
   "cell_type": "code",
   "execution_count": null,
   "id": "dcc81384",
   "metadata": {},
   "outputs": [],
   "source": []
  }
 ],
 "metadata": {
  "kernelspec": {
   "display_name": "Python 3 (ipykernel)",
   "language": "python",
   "name": "python3"
  },
  "language_info": {
   "codemirror_mode": {
    "name": "ipython",
    "version": 3
   },
   "file_extension": ".py",
   "mimetype": "text/x-python",
   "name": "python",
   "nbconvert_exporter": "python",
   "pygments_lexer": "ipython3",
   "version": "3.9.13"
  }
 },
 "nbformat": 4,
 "nbformat_minor": 5
}
